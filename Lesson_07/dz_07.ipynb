{
 "cells": [
  {
   "cell_type": "code",
   "execution_count": 1,
   "metadata": {},
   "outputs": [],
   "source": [
    "import numpy as np\n",
    "import pandas as pd\n",
    "import matplotlib.pyplot as plt\n",
    "import seaborn as sns\n",
    "%matplotlib inline"
   ]
  },
  {
   "cell_type": "markdown",
   "metadata": {},
   "source": [
    "y = a + b*x  \n",
    "a и b - коэффициенты линейной регрессии  \n",
    "a - intercept  \n",
    "b - slope (наклон прямой)"
   ]
  },
  {
   "cell_type": "code",
   "execution_count": 2,
   "metadata": {},
   "outputs": [],
   "source": [
    "def mse_(y, y_pred):\n",
    "    return np.sum((y_pred-y)**2)/len(y)"
   ]
  },
  {
   "cell_type": "markdown",
   "metadata": {},
   "source": [
    "**1) Даны значения величины заработной платы заемщиков банка (zp) и значения их поведенческого кредитного скоринга (ks):  \n",
    "zp = [35, 45, 190, 200, 40, 70, 54, 150, 120, 110],  \n",
    "ks = [401, 574, 874, 919, 459, 739, 653, 902, 746, 832].  \n",
    "Используя математические операции, посчитать коэффициенты линейной регрессии, приняв за X заработную плату (то есть, zp - признак), а за y - значения скорингового балла (то есть, ks - целевая переменная).  \n",
    "Произвести расчет как с использованием intercept, так и без.**"
   ]
  },
  {
   "cell_type": "code",
   "execution_count": 3,
   "metadata": {},
   "outputs": [],
   "source": [
    "x = zp = np.array([35, 45, 190, 200, 40, 70, 54, 150, 120, 110])\n",
    "y = ks = np.array([401, 574, 874, 919, 459, 739, 653, 902, 746, 832])"
   ]
  },
  {
   "cell_type": "markdown",
   "metadata": {},
   "source": [
    "### Способ 1:"
   ]
  },
  {
   "cell_type": "markdown",
   "metadata": {},
   "source": [
    "Коэффициенты уравнения линейной регрессии можно найти следующим образом:  \n",
    "$$b = \\frac{\\overline{yx} - \\overline{y} \\cdot {\\overline{x}}}{\\overline{x^2} - (\\overline{x})^2};$$"
   ]
  },
  {
   "cell_type": "markdown",
   "metadata": {},
   "source": [
    "$$a = \\overline{y} - b \\cdot {\\overline{x}}.$$"
   ]
  },
  {
   "cell_type": "code",
   "execution_count": 4,
   "metadata": {},
   "outputs": [
    {
     "data": {
      "text/plain": [
       "2.620538882402765"
      ]
     },
     "execution_count": 4,
     "metadata": {},
     "output_type": "execute_result"
    }
   ],
   "source": [
    "b = ((x*y).mean()-x.mean()*y.mean()) / ((x**2).mean()-x.mean()**2)\n",
    "b"
   ]
  },
  {
   "cell_type": "code",
   "execution_count": 5,
   "metadata": {},
   "outputs": [
    {
     "data": {
      "text/plain": [
       "444.1773573243596"
      ]
     },
     "execution_count": 5,
     "metadata": {},
     "output_type": "execute_result"
    }
   ],
   "source": [
    "a = y.mean() - b*x.mean()\n",
    "a"
   ]
  },
  {
   "cell_type": "markdown",
   "metadata": {},
   "source": [
    "y_ = 444.1773573243596 + 2.620538882402765*x"
   ]
  },
  {
   "cell_type": "code",
   "execution_count": 6,
   "metadata": {},
   "outputs": [
    {
     "data": {
      "text/plain": [
       "array([535.89621821, 562.10160703, 942.07974498, 968.2851338 ,\n",
       "       548.99891262, 627.61507909, 585.68645697, 837.25818968,\n",
       "       758.64202321, 732.43663439])"
      ]
     },
     "execution_count": 6,
     "metadata": {},
     "output_type": "execute_result"
    }
   ],
   "source": [
    "y_pred = a + b * x\n",
    "y_pred"
   ]
  },
  {
   "cell_type": "code",
   "execution_count": 7,
   "metadata": {},
   "outputs": [
    {
     "data": {
      "text/plain": [
       "6470.414201176658"
      ]
     },
     "execution_count": 7,
     "metadata": {},
     "output_type": "execute_result"
    }
   ],
   "source": [
    "mse_(y, y_pred)"
   ]
  },
  {
   "cell_type": "code",
   "execution_count": 8,
   "metadata": {},
   "outputs": [
    {
     "data": {
      "text/plain": [
       "<function matplotlib.pyplot.show(*args, **kw)>"
      ]
     },
     "execution_count": 8,
     "metadata": {},
     "output_type": "execute_result"
    },
    {
     "data": {
      "image/png": "[encoded data removed]",
      "text/plain": [
       "<Figure size 432x288 with 1 Axes>"
      ]
     },
     "metadata": {
      "needs_background": "light"
     },
     "output_type": "display_data"
    }
   ],
   "source": [
    "plt.scatter(x, y)\n",
    "plt.plot(x, y_pred)\n",
    "plt.show"
   ]
  },
  {
   "cell_type": "markdown",
   "metadata": {},
   "source": [
    "### Способ 2:"
   ]
  },
  {
   "cell_type": "markdown",
   "metadata": {},
   "source": [
    "$W = (X \\cdot X^T)^{-1} \\cdot X \\cdot y^T$"
   ]
  },
  {
   "cell_type": "markdown",
   "metadata": {},
   "source": [
    "#### Без intercept:"
   ]
  },
  {
   "cell_type": "code",
   "execution_count": 9,
   "metadata": {},
   "outputs": [
    {
     "data": {
      "text/plain": [
       "array([[ 35,  45, 190, 200,  40,  70,  54, 150, 120, 110]])"
      ]
     },
     "execution_count": 9,
     "metadata": {},
     "output_type": "execute_result"
    }
   ],
   "source": [
    "X_mtrx = x.reshape((1, len(x)))\n",
    "X_mtrx"
   ]
  },
  {
   "cell_type": "code",
   "execution_count": 10,
   "metadata": {},
   "outputs": [
    {
     "data": {
      "text/plain": [
       "array([[401, 574, 874, 919, 459, 739, 653, 902, 746, 832]])"
      ]
     },
     "execution_count": 10,
     "metadata": {},
     "output_type": "execute_result"
    }
   ],
   "source": [
    "y_mtrx = y.reshape((1,len(x)))\n",
    "y_mtrx"
   ]
  },
  {
   "cell_type": "code",
   "execution_count": 11,
   "metadata": {},
   "outputs": [
    {
     "data": {
      "text/plain": [
       "array([[5.88982042]])"
      ]
     },
     "execution_count": 11,
     "metadata": {},
     "output_type": "execute_result"
    }
   ],
   "source": [
    "coefs_ = np.linalg.inv(X_mtrx @ X_mtrx.T) @ X_mtrx @ y_mtrx.T\n",
    "coefs_"
   ]
  },
  {
   "cell_type": "code",
   "execution_count": 12,
   "metadata": {},
   "outputs": [
    {
     "data": {
      "text/plain": [
       "array([ 206.1437147 ,  265.04191891, 1119.06587983, 1177.96408403,\n",
       "        235.59281681,  412.28742941,  318.05030269,  883.47306302,\n",
       "        706.77845042,  647.88024621])"
      ]
     },
     "execution_count": 12,
     "metadata": {},
     "output_type": "execute_result"
    }
   ],
   "source": [
    "y_pred = 0 + coefs_[0,0] * x\n",
    "y_pred"
   ]
  },
  {
   "cell_type": "code",
   "execution_count": 13,
   "metadata": {},
   "outputs": [
    {
     "data": {
      "text/plain": [
       "56516.85841571941"
      ]
     },
     "execution_count": 13,
     "metadata": {},
     "output_type": "execute_result"
    }
   ],
   "source": [
    "mse_(y, y_pred)"
   ]
  },
  {
   "cell_type": "code",
   "execution_count": null,
   "metadata": {},
   "outputs": [],
   "source": []
  },
  {
   "cell_type": "markdown",
   "metadata": {},
   "source": [
    "#### С intercept:"
   ]
  },
  {
   "cell_type": "code",
   "execution_count": 14,
   "metadata": {},
   "outputs": [
    {
     "data": {
      "text/plain": [
       "array([[  1.,   1.,   1.,   1.,   1.,   1.,   1.,   1.,   1.,   1.],\n",
       "       [ 35.,  45., 190., 200.,  40.,  70.,  54., 150., 120., 110.]])"
      ]
     },
     "execution_count": 14,
     "metadata": {},
     "output_type": "execute_result"
    }
   ],
   "source": [
    "X_mtrx = np.vstack([np.ones((1,len(x))), x])\n",
    "X_mtrx"
   ]
  },
  {
   "cell_type": "code",
   "execution_count": 15,
   "metadata": {},
   "outputs": [
    {
     "data": {
      "text/plain": [
       "array([[401, 574, 874, 919, 459, 739, 653, 902, 746, 832]])"
      ]
     },
     "execution_count": 15,
     "metadata": {},
     "output_type": "execute_result"
    }
   ],
   "source": [
    "y_mtrx = y.reshape((1,len(x)))\n",
    "y_mtrx"
   ]
  },
  {
   "cell_type": "code",
   "execution_count": 16,
   "metadata": {},
   "outputs": [
    {
     "data": {
      "text/plain": [
       "array([[444.17735732],\n",
       "       [  2.62053888]])"
      ]
     },
     "execution_count": 16,
     "metadata": {},
     "output_type": "execute_result"
    }
   ],
   "source": [
    "coefs_ = np.linalg.inv(X_mtrx @ X_mtrx.T) @ X_mtrx @ y_mtrx.T\n",
    "coefs_"
   ]
  },
  {
   "cell_type": "code",
   "execution_count": 17,
   "metadata": {},
   "outputs": [
    {
     "name": "stdout",
     "output_type": "stream",
     "text": [
      "a: [444.17735732]\n",
      "b: [2.62053888]\n"
     ]
    }
   ],
   "source": [
    "a, b = coefs_\n",
    "print(\"a:\", a)\n",
    "print(\"b:\", b)"
   ]
  },
  {
   "cell_type": "markdown",
   "metadata": {},
   "source": [
    "### Способ 3:"
   ]
  },
  {
   "cell_type": "code",
   "execution_count": null,
   "metadata": {},
   "outputs": [],
   "source": []
  },
  {
   "cell_type": "code",
   "execution_count": null,
   "metadata": {},
   "outputs": [],
   "source": []
  },
  {
   "cell_type": "code",
   "execution_count": null,
   "metadata": {},
   "outputs": [],
   "source": []
  },
  {
   "cell_type": "code",
   "execution_count": null,
   "metadata": {},
   "outputs": [],
   "source": []
  },
  {
   "cell_type": "code",
   "execution_count": null,
   "metadata": {},
   "outputs": [],
   "source": []
  },
  {
   "cell_type": "code",
   "execution_count": null,
   "metadata": {},
   "outputs": [],
   "source": []
  },
  {
   "cell_type": "code",
   "execution_count": null,
   "metadata": {},
   "outputs": [],
   "source": []
  },
  {
   "cell_type": "markdown",
   "metadata": {},
   "source": [
    "**2) Посчитать коэффициент линейной регрессии при заработной плате (zp), используя градиентный спуск (без intercept).**"
   ]
  },
  {
   "cell_type": "code",
   "execution_count": 18,
   "metadata": {},
   "outputs": [],
   "source": [
    "def mse_2(w1):\n",
    "    return np.sum((w1*x - y)**2) / len(x)"
   ]
  },
  {
   "cell_type": "code",
   "execution_count": 19,
   "metadata": {},
   "outputs": [
    {
     "data": {
      "text/plain": [
       "56516.85841571943"
      ]
     },
     "execution_count": 19,
     "metadata": {},
     "output_type": "execute_result"
    }
   ],
   "source": [
    "# Проверка функции mse_2 на коэффициенте полученном ранее\n",
    "mse_2(5.88982042)"
   ]
  },
  {
   "cell_type": "markdown",
   "metadata": {},
   "source": [
    "f = (1/n) \\* np.sum((w1\\*X - y)\\*\\*2)  \n",
    "f_p = (1/n) \\* np.sum(2 \\* (w1\\*X - y) \\* X) = (2/n) * np.sum((w1*X - y) * X)"
   ]
  },
  {
   "cell_type": "code",
   "execution_count": 20,
   "metadata": {},
   "outputs": [
    {
     "name": "stdout",
     "output_type": "stream",
     "text": [
      "Iteration: 0; w1 = 0.25952808; mse = 493237.7212546963\n",
      "Iteration: 10; w1 = 1.6319792141937546; mse = 306275.7568040035\n",
      "Iteration: 20; w1 = 2.6698789606516935; mse = 199352.96411174876\n",
      "Iteration: 30; w1 = 3.4547782236263824; mse = 138204.25062502263\n",
      "Iteration: 40; w1 = 4.04834889855975; mse = 103233.54824312925\n",
      "Iteration: 50; w1 = 4.497229618367758; mse = 83233.94472982832\n",
      "Iteration: 60; w1 = 4.836690291080364; mse = 71796.25222021657\n",
      "Iteration: 70; w1 = 5.093403362579137; mse = 65255.0820486468\n",
      "Iteration: 80; w1 = 5.287539550879594; mse = 61514.21323463749\n",
      "Iteration: 90; w1 = 5.434352720103083; mse = 59374.825462025976\n",
      "Iteration: 100; w1 = 5.54537842245223; mse = 58151.31823171113\n",
      "Iteration: 110; w1 = 5.629340281237233; mse = 57451.59938606899\n",
      "Iteration: 120; w1 = 5.692835432193034; mse = 57051.433003054815\n",
      "Iteration: 130; w1 = 5.740852880272922; mse = 56822.57946410561\n",
      "Iteration: 140; w1 = 5.777165500770666; mse = 56691.69904907657\n",
      "Iteration: 150; w1 = 5.804626485478126; mse = 56616.849068093856\n",
      "Iteration: 160; w1 = 5.825393526544474; mse = 56574.04266614384\n",
      "Iteration: 170; w1 = 5.8410983528369655; mse = 56549.561857680776\n",
      "Iteration: 180; w1 = 5.852974939784972; mse = 56535.56138215128\n",
      "Iteration: 190; w1 = 5.861956466540286; mse = 56527.55456671675\n",
      "Iteration: 200; w1 = 5.868748638669329; mse = 56522.97550129376\n",
      "Iteration: 210; w1 = 5.873885137561711; mse = 56520.35675226433\n",
      "Iteration: 220; w1 = 5.877769553381888; mse = 56518.85910026643\n",
      "Iteration: 230; w1 = 5.880707096362074; mse = 56518.00259913497\n",
      "Iteration: 240; w1 = 5.882928578088004; mse = 56517.512769595625\n",
      "Iteration: 250; w1 = 5.884608547059329; mse = 56517.232638059555\n",
      "Iteration: 260; w1 = 5.885879003490128; mse = 56517.072431964974\n",
      "Iteration: 270; w1 = 5.8868397709626885; mse = 56516.98081074626\n",
      "Iteration: 280; w1 = 5.887566339866551; mse = 56516.928412941146\n",
      "Iteration: 290; w1 = 5.888115798905433; mse = 56516.89844684794\n",
      "Iteration: 300; w1 = 5.888531320728348; mse = 56516.88130936019\n",
      "Iteration: 310; w1 = 5.888845554134484; mse = 56516.87150850017\n",
      "Iteration: 320; w1 = 5.889083189387522; mse = 56516.86590342786\n",
      "Iteration: 330; w1 = 5.889262898203911; mse = 56516.862697909644\n",
      "Iteration: 340; w1 = 5.889398800845774; mse = 56516.86086468671\n",
      "Iteration: 350; w1 = 5.889501575592372; mse = 56516.85981627392\n",
      "Iteration: 360; w1 = 5.889579297764605; mse = 56516.85921669088\n",
      "Iteration: 370; w1 = 5.889638074227276; mse = 56516.85887379176\n",
      "Iteration: 380; w1 = 5.889682523223808; mse = 56516.85867768914\n",
      "Iteration: 390; w1 = 5.889716137245525; mse = 56516.858565538845\n",
      "Iteration: 400; w1 = 5.8897415574471985; mse = 56516.85850140053\n",
      "Iteration: 410; w1 = 5.889760781170516; mse = 56516.85846472009\n",
      "Iteration: 420; w1 = 5.88977531888123; mse = 56516.8584437427\n",
      "Iteration: 430; w1 = 5.889786312850989; mse = 56516.85843174583\n",
      "Iteration: 440; w1 = 5.8897946269090555; mse = 56516.858424884835\n",
      "Iteration: 450; w1 = 5.889800914315978; mse = 56516.858420961085\n",
      "Iteration: 460; w1 = 5.8898056690922225; mse = 56516.85841871711\n",
      "Iteration: 470; w1 = 5.889809264834859; mse = 56516.85841743378\n",
      "Iteration: 480; w1 = 5.889811984072197; mse = 56516.85841669984\n",
      "Iteration: 490; w1 = 5.889814040462894; mse = 56516.85841628011\n"
     ]
    }
   ],
   "source": [
    "alpha = 1e-6\n",
    "w1 = 0.1\n",
    "for i in range(500):\n",
    "    w1 -= alpha * (2/len(x)) * np.sum((w1*x - y) * x)\n",
    "    if i % 10 == 0:\n",
    "        print(\"Iteration: {i}; w1 = {w1}; mse = {mse}\".format(i=i, w1=w1, mse=mse_2(w1)))"
   ]
  },
  {
   "cell_type": "code",
   "execution_count": null,
   "metadata": {},
   "outputs": [],
   "source": []
  },
  {
   "cell_type": "markdown",
   "metadata": {},
   "source": [
    "**3) В каких случаях для вычисления доверительных интервалов и проверки статистических гипотез используется таблица значений функции Лапласа, а в каких - таблица критических точек распределения Стьюдента?**"
   ]
  },
  {
   "cell_type": "markdown",
   "metadata": {},
   "source": [
    "Таблица значений функции Лапласа используется тогда, когда известна дисперсия генеральной выборки и/или количество наблюдений велико (более тридцати, например).  \n",
    "Таблица значений Стьюдента используется когда дисперсия неизвестна и количество наблюдений мало, т.к. с увеличением объема выборки, распределение Стьюдента стремится к нормальному."
   ]
  },
  {
   "cell_type": "code",
   "execution_count": null,
   "metadata": {},
   "outputs": [],
   "source": []
  },
  {
   "cell_type": "markdown",
   "metadata": {},
   "source": [
    "***4. Произвести вычисления как в пункте 2, но с вычислением intercept.  \n",
    "Учесть, что изменение коэффициентов должно производиться на каждом шаге одновременно (то есть изменение одного коэффициента не должно влиять на изменение другого во время одной итерации).**"
   ]
  },
  {
   "cell_type": "code",
   "execution_count": null,
   "metadata": {},
   "outputs": [],
   "source": []
  },
  {
   "cell_type": "code",
   "execution_count": null,
   "metadata": {},
   "outputs": [],
   "source": []
  }
 ],
 "metadata": {
  "kernelspec": {
   "display_name": "Python 3",
   "language": "python",
   "name": "python3"
  },
  "language_info": {
   "codemirror_mode": {
    "name": "ipython",
    "version": 3
   },
   "file_extension": ".py",
   "mimetype": "text/x-python",
   "name": "python",
   "nbconvert_exporter": "python",
   "pygments_lexer": "ipython3",
   "version": "3.7.1"
  }
 },
 "nbformat": 4,
 "nbformat_minor": 2
}
