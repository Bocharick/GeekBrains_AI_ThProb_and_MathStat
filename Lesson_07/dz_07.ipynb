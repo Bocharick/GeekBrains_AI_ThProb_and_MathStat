{
 "cells": [
  {
   "cell_type": "code",
   "execution_count": 1,
   "metadata": {},
   "outputs": [],
   "source": [
    "import numpy as np\n",
    "import pandas as pd\n",
    "import matplotlib.pyplot as plt\n",
    "import seaborn as sns\n",
    "%matplotlib inline"
   ]
  },
  {
   "cell_type": "markdown",
   "metadata": {},
   "source": [
    "y = a + b*x  \n",
    "a и b - коэффициенты линейной регрессии  \n",
    "a - intercept  \n",
    "b - slope (наклон прямой)"
   ]
  },
  {
   "cell_type": "code",
   "execution_count": 2,
   "metadata": {},
   "outputs": [],
   "source": [
    "def mse_(y, y_pred):\n",
    "    return np.sum((y_pred-y)**2)/len(y)"
   ]
  },
  {
   "cell_type": "markdown",
   "metadata": {},
   "source": [
    "**1) Даны значения величины заработной платы заемщиков банка (zp) и значения их поведенческого кредитного скоринга (ks):  \n",
    "zp = [35, 45, 190, 200, 40, 70, 54, 150, 120, 110],  \n",
    "ks = [401, 574, 874, 919, 459, 739, 653, 902, 746, 832].  \n",
    "Используя математические операции, посчитать коэффициенты линейной регрессии, приняв за X заработную плату (то есть, zp - признак), а за y - значения скорингового балла (то есть, ks - целевая переменная).  \n",
    "Произвести расчет как с использованием intercept, так и без.**"
   ]
  },
  {
   "cell_type": "code",
   "execution_count": 3,
   "metadata": {},
   "outputs": [],
   "source": [
    "x = zp = np.array([35, 45, 190, 200, 40, 70, 54, 150, 120, 110])\n",
    "y = ks = np.array([401, 574, 874, 919, 459, 739, 653, 902, 746, 832])"
   ]
  },
  {
   "cell_type": "markdown",
   "metadata": {},
   "source": [
    "### Способ 1:"
   ]
  },
  {
   "cell_type": "markdown",
   "metadata": {},
   "source": [
    "Коэффициенты уравнения линейной регрессии можно найти следующим образом:  \n",
    "$$b = \\frac{\\overline{yx} - \\overline{y} \\cdot {\\overline{x}}}{\\overline{x^2} - (\\overline{x})^2};$$"
   ]
  },
  {
   "cell_type": "markdown",
   "metadata": {},
   "source": [
    "$$a = \\overline{y} - b \\cdot {\\overline{x}}.$$"
   ]
  },
  {
   "cell_type": "code",
   "execution_count": 4,
   "metadata": {},
   "outputs": [
    {
     "data": {
      "text/plain": [
       "2.620538882402765"
      ]
     },
     "execution_count": 4,
     "metadata": {},
     "output_type": "execute_result"
    }
   ],
   "source": [
    "b = ((x*y).mean()-x.mean()*y.mean()) / ((x**2).mean()-x.mean()**2)\n",
    "b"
   ]
  },
  {
   "cell_type": "code",
   "execution_count": 5,
   "metadata": {},
   "outputs": [
    {
     "data": {
      "text/plain": [
       "444.1773573243596"
      ]
     },
     "execution_count": 5,
     "metadata": {},
     "output_type": "execute_result"
    }
   ],
   "source": [
    "a = y.mean() - b*x.mean()\n",
    "a"
   ]
  },
  {
   "cell_type": "markdown",
   "metadata": {},
   "source": [
    "y_ = 444.1773573243596 + 2.620538882402765*x"
   ]
  },
  {
   "cell_type": "code",
   "execution_count": 6,
   "metadata": {},
   "outputs": [
    {
     "data": {
      "text/plain": [
       "array([535.89621821, 562.10160703, 942.07974498, 968.2851338 ,\n",
       "       548.99891262, 627.61507909, 585.68645697, 837.25818968,\n",
       "       758.64202321, 732.43663439])"
      ]
     },
     "execution_count": 6,
     "metadata": {},
     "output_type": "execute_result"
    }
   ],
   "source": [
    "y_pred = a + b * x\n",
    "y_pred"
   ]
  },
  {
   "cell_type": "code",
   "execution_count": 7,
   "metadata": {},
   "outputs": [
    {
     "data": {
      "text/plain": [
       "6470.414201176658"
      ]
     },
     "execution_count": 7,
     "metadata": {},
     "output_type": "execute_result"
    }
   ],
   "source": [
    "mse_(y, y_pred)"
   ]
  },
  {
   "cell_type": "code",
   "execution_count": 8,
   "metadata": {},
   "outputs": [
    {
     "data": {
      "text/plain": [
       "<function matplotlib.pyplot.show(*args, **kw)>"
      ]
     },
     "execution_count": 8,
     "metadata": {},
     "output_type": "execute_result"
    },
    {
     "data": {
      "image/png": "[encoded data removed]",
      "text/plain": [
       "<Figure size 432x288 with 1 Axes>"
      ]
     },
     "metadata": {
      "needs_background": "light"
     },
     "output_type": "display_data"
    }
   ],
   "source": [
    "plt.scatter(x, y)\n",
    "plt.plot(x, y_pred)\n",
    "plt.show"
   ]
  },
  {
   "cell_type": "markdown",
   "metadata": {},
   "source": [
    "### Способ 2:"
   ]
  },
  {
   "cell_type": "markdown",
   "metadata": {},
   "source": [
    "$W = (X \\cdot X^T)^{-1} \\cdot X \\cdot y^T$"
   ]
  },
  {
   "cell_type": "markdown",
   "metadata": {},
   "source": [
    "#### Без intercept:"
   ]
  },
  {
   "cell_type": "code",
   "execution_count": 9,
   "metadata": {},
   "outputs": [
    {
     "data": {
      "text/plain": [
       "array([[ 35,  45, 190, 200,  40,  70,  54, 150, 120, 110]])"
      ]
     },
     "execution_count": 9,
     "metadata": {},
     "output_type": "execute_result"
    }
   ],
   "source": [
    "X_mtrx = x.reshape((1, len(x)))\n",
    "X_mtrx"
   ]
  },
  {
   "cell_type": "code",
   "execution_count": 10,
   "metadata": {},
   "outputs": [
    {
     "data": {
      "text/plain": [
       "array([[401, 574, 874, 919, 459, 739, 653, 902, 746, 832]])"
      ]
     },
     "execution_count": 10,
     "metadata": {},
     "output_type": "execute_result"
    }
   ],
   "source": [
    "y_mtrx = y.reshape((1,len(x)))\n",
    "y_mtrx"
   ]
  },
  {
   "cell_type": "code",
   "execution_count": 11,
   "metadata": {},
   "outputs": [
    {
     "data": {
      "text/plain": [
       "array([[5.88982042]])"
      ]
     },
     "execution_count": 11,
     "metadata": {},
     "output_type": "execute_result"
    }
   ],
   "source": [
    "coefs_ = np.linalg.inv(X_mtrx @ X_mtrx.T) @ X_mtrx @ y_mtrx.T\n",
    "coefs_"
   ]
  },
  {
   "cell_type": "code",
   "execution_count": 12,
   "metadata": {},
   "outputs": [
    {
     "data": {
      "text/plain": [
       "array([ 206.1437147 ,  265.04191891, 1119.06587983, 1177.96408403,\n",
       "        235.59281681,  412.28742941,  318.05030269,  883.47306302,\n",
       "        706.77845042,  647.88024621])"
      ]
     },
     "execution_count": 12,
     "metadata": {},
     "output_type": "execute_result"
    }
   ],
   "source": [
    "y_pred = 0 + coefs_[0,0] * x\n",
    "y_pred"
   ]
  },
  {
   "cell_type": "code",
   "execution_count": 13,
   "metadata": {},
   "outputs": [
    {
     "data": {
      "text/plain": [
       "56516.85841571941"
      ]
     },
     "execution_count": 13,
     "metadata": {},
     "output_type": "execute_result"
    }
   ],
   "source": [
    "mse_(y, y_pred)"
   ]
  },
  {
   "cell_type": "code",
   "execution_count": null,
   "metadata": {},
   "outputs": [],
   "source": []
  },
  {
   "cell_type": "markdown",
   "metadata": {},
   "source": [
    "#### С intercept:"
   ]
  },
  {
   "cell_type": "code",
   "execution_count": 14,
   "metadata": {},
   "outputs": [
    {
     "data": {
      "text/plain": [
       "array([[  1.,   1.,   1.,   1.,   1.,   1.,   1.,   1.,   1.,   1.],\n",
       "       [ 35.,  45., 190., 200.,  40.,  70.,  54., 150., 120., 110.]])"
      ]
     },
     "execution_count": 14,
     "metadata": {},
     "output_type": "execute_result"
    }
   ],
   "source": [
    "X_mtrx = np.vstack([np.ones((1,len(x))), x])\n",
    "X_mtrx"
   ]
  },
  {
   "cell_type": "code",
   "execution_count": 15,
   "metadata": {},
   "outputs": [
    {
     "data": {
      "text/plain": [
       "array([[401, 574, 874, 919, 459, 739, 653, 902, 746, 832]])"
      ]
     },
     "execution_count": 15,
     "metadata": {},
     "output_type": "execute_result"
    }
   ],
   "source": [
    "y_mtrx = y.reshape((1,len(x)))\n",
    "y_mtrx"
   ]
  },
  {
   "cell_type": "code",
   "execution_count": 16,
   "metadata": {},
   "outputs": [
    {
     "data": {
      "text/plain": [
       "array([[444.17735732],\n",
       "       [  2.62053888]])"
      ]
     },
     "execution_count": 16,
     "metadata": {},
     "output_type": "execute_result"
    }
   ],
   "source": [
    "coefs_ = np.linalg.inv(X_mtrx @ X_mtrx.T) @ X_mtrx @ y_mtrx.T\n",
    "coefs_"
   ]
  },
  {
   "cell_type": "code",
   "execution_count": 17,
   "metadata": {},
   "outputs": [
    {
     "name": "stdout",
     "output_type": "stream",
     "text": [
      "a: [444.17735732]\n",
      "b: [2.62053888]\n"
     ]
    }
   ],
   "source": [
    "a, b = coefs_\n",
    "print(\"a:\", a)\n",
    "print(\"b:\", b)"
   ]
  },
  {
   "cell_type": "markdown",
   "metadata": {},
   "source": [
    "### Способ 3:"
   ]
  },
  {
   "cell_type": "code",
   "execution_count": null,
   "metadata": {},
   "outputs": [],
   "source": []
  },
  {
   "cell_type": "code",
   "execution_count": null,
   "metadata": {},
   "outputs": [],
   "source": []
  },
  {
   "cell_type": "code",
   "execution_count": null,
   "metadata": {},
   "outputs": [],
   "source": []
  },
  {
   "cell_type": "code",
   "execution_count": null,
   "metadata": {},
   "outputs": [],
   "source": []
  },
  {
   "cell_type": "code",
   "execution_count": null,
   "metadata": {},
   "outputs": [],
   "source": []
  },
  {
   "cell_type": "code",
   "execution_count": null,
   "metadata": {},
   "outputs": [],
   "source": []
  },
  {
   "cell_type": "code",
   "execution_count": null,
   "metadata": {},
   "outputs": [],
   "source": []
  },
  {
   "cell_type": "markdown",
   "metadata": {},
   "source": [
    "**2) Посчитать коэффициент линейной регрессии при заработной плате (zp), используя градиентный спуск (без intercept).**"
   ]
  },
  {
   "cell_type": "markdown",
   "metadata": {},
   "source": [
    "#### Без intercept:"
   ]
  },
  {
   "cell_type": "code",
   "execution_count": 18,
   "metadata": {},
   "outputs": [],
   "source": [
    "def mse_2(w1):\n",
    "    return np.sum((w1*x - y)**2) / len(x)"
   ]
  },
  {
   "cell_type": "code",
   "execution_count": 19,
   "metadata": {},
   "outputs": [
    {
     "data": {
      "text/plain": [
       "56516.85841571943"
      ]
     },
     "execution_count": 19,
     "metadata": {},
     "output_type": "execute_result"
    }
   ],
   "source": [
    "# Проверка функции mse_2 на коэффициенте полученном ранее\n",
    "mse_2(5.88982042)"
   ]
  },
  {
   "cell_type": "markdown",
   "metadata": {},
   "source": [
    "f = (1/n) \\* np.sum((w1\\*X - y)\\*\\*2)  \n",
    "f_p = (1/n) \\* np.sum(2 \\* (w1\\*X - y) \\* X) = (2/n) * np.sum((w1\\*X - y) \\* X)"
   ]
  },
  {
   "cell_type": "code",
   "execution_count": 20,
   "metadata": {},
   "outputs": [
    {
     "name": "stdout",
     "output_type": "stream",
     "text": [
      "Iteration: 0; w1 = 0.25952808; mse = 493237.7212546963\n",
      "Iteration: 10; w1 = 1.6319792141937546; mse = 306275.7568040035\n",
      "Iteration: 20; w1 = 2.6698789606516935; mse = 199352.96411174876\n",
      "Iteration: 30; w1 = 3.4547782236263824; mse = 138204.25062502263\n",
      "Iteration: 40; w1 = 4.04834889855975; mse = 103233.54824312925\n",
      "Iteration: 50; w1 = 4.497229618367758; mse = 83233.94472982832\n",
      "Iteration: 60; w1 = 4.836690291080364; mse = 71796.25222021657\n",
      "Iteration: 70; w1 = 5.093403362579137; mse = 65255.0820486468\n",
      "Iteration: 80; w1 = 5.287539550879594; mse = 61514.21323463749\n",
      "Iteration: 90; w1 = 5.434352720103083; mse = 59374.825462025976\n",
      "Iteration: 100; w1 = 5.54537842245223; mse = 58151.31823171113\n",
      "Iteration: 110; w1 = 5.629340281237233; mse = 57451.59938606899\n",
      "Iteration: 120; w1 = 5.692835432193034; mse = 57051.433003054815\n",
      "Iteration: 130; w1 = 5.740852880272922; mse = 56822.57946410561\n",
      "Iteration: 140; w1 = 5.777165500770666; mse = 56691.69904907657\n",
      "Iteration: 150; w1 = 5.804626485478126; mse = 56616.849068093856\n",
      "Iteration: 160; w1 = 5.825393526544474; mse = 56574.04266614384\n",
      "Iteration: 170; w1 = 5.8410983528369655; mse = 56549.561857680776\n",
      "Iteration: 180; w1 = 5.852974939784972; mse = 56535.56138215128\n",
      "Iteration: 190; w1 = 5.861956466540286; mse = 56527.55456671675\n",
      "Iteration: 200; w1 = 5.868748638669329; mse = 56522.97550129376\n",
      "Iteration: 210; w1 = 5.873885137561711; mse = 56520.35675226433\n",
      "Iteration: 220; w1 = 5.877769553381888; mse = 56518.85910026643\n",
      "Iteration: 230; w1 = 5.880707096362074; mse = 56518.00259913497\n",
      "Iteration: 240; w1 = 5.882928578088004; mse = 56517.512769595625\n",
      "Iteration: 250; w1 = 5.884608547059329; mse = 56517.232638059555\n",
      "Iteration: 260; w1 = 5.885879003490128; mse = 56517.072431964974\n",
      "Iteration: 270; w1 = 5.8868397709626885; mse = 56516.98081074626\n",
      "Iteration: 280; w1 = 5.887566339866551; mse = 56516.928412941146\n",
      "Iteration: 290; w1 = 5.888115798905433; mse = 56516.89844684794\n",
      "Iteration: 300; w1 = 5.888531320728348; mse = 56516.88130936019\n",
      "Iteration: 310; w1 = 5.888845554134484; mse = 56516.87150850017\n",
      "Iteration: 320; w1 = 5.889083189387522; mse = 56516.86590342786\n",
      "Iteration: 330; w1 = 5.889262898203911; mse = 56516.862697909644\n",
      "Iteration: 340; w1 = 5.889398800845774; mse = 56516.86086468671\n",
      "Iteration: 350; w1 = 5.889501575592372; mse = 56516.85981627392\n",
      "Iteration: 360; w1 = 5.889579297764605; mse = 56516.85921669088\n",
      "Iteration: 370; w1 = 5.889638074227276; mse = 56516.85887379176\n",
      "Iteration: 380; w1 = 5.889682523223808; mse = 56516.85867768914\n",
      "Iteration: 390; w1 = 5.889716137245525; mse = 56516.858565538845\n",
      "Iteration: 400; w1 = 5.8897415574471985; mse = 56516.85850140053\n",
      "Iteration: 410; w1 = 5.889760781170516; mse = 56516.85846472009\n",
      "Iteration: 420; w1 = 5.88977531888123; mse = 56516.8584437427\n",
      "Iteration: 430; w1 = 5.889786312850989; mse = 56516.85843174583\n",
      "Iteration: 440; w1 = 5.8897946269090555; mse = 56516.858424884835\n",
      "Iteration: 450; w1 = 5.889800914315978; mse = 56516.858420961085\n",
      "Iteration: 460; w1 = 5.8898056690922225; mse = 56516.85841871711\n",
      "Iteration: 470; w1 = 5.889809264834859; mse = 56516.85841743378\n",
      "Iteration: 480; w1 = 5.889811984072197; mse = 56516.85841669984\n",
      "Iteration: 490; w1 = 5.889814040462894; mse = 56516.85841628011\n"
     ]
    }
   ],
   "source": [
    "alpha = 1e-6\n",
    "w1 = 0.1\n",
    "for i in range(500):\n",
    "    w1 -= alpha * (2/len(x)) * np.sum((w1*x - y) * x)\n",
    "    if i % 10 == 0:\n",
    "        print(\"Iteration: {i}; w1 = {w1}; mse = {mse}\".format(i=i, w1=w1, mse=mse_2(w1)))"
   ]
  },
  {
   "cell_type": "markdown",
   "metadata": {},
   "source": [
    "#### С intercept:"
   ]
  },
  {
   "cell_type": "code",
   "execution_count": 33,
   "metadata": {},
   "outputs": [],
   "source": [
    "def mse_3(w0, w1):\n",
    "    return np.sum(((w0 + w1*x) - y)**2) / len(x)"
   ]
  },
  {
   "cell_type": "code",
   "execution_count": 34,
   "metadata": {},
   "outputs": [
    {
     "data": {
      "text/plain": [
       "56516.85841571943"
      ]
     },
     "execution_count": 34,
     "metadata": {},
     "output_type": "execute_result"
    }
   ],
   "source": [
    "mse_3(0, 5.88982042)"
   ]
  },
  {
   "cell_type": "markdown",
   "metadata": {},
   "source": [
    "f = (1/n) \\* np.sum(((w0 + w1\\*X) - y)\\*\\*2)  \n",
    "f_p_w0 = (1/n) \\* np.sum(2 \\* ((w0 + w1\\*X) - y) \\* 1) = (2/n) * np.sum(((w0 + w1\\*X) - y) \\* 1)  \n",
    "f_p_w1 = (1/n) \\* np.sum(2 \\* ((w0 + w1\\*X) - y) \\* X) = (2/n) * np.sum(((w0 + w1\\*X) - y) \\* X)"
   ]
  },
  {
   "cell_type": "code",
   "execution_count": 54,
   "metadata": {},
   "outputs": [
    {
     "name": "stdout",
     "output_type": "stream",
     "text": [
      "Iteration: 0; w0 = 0.169966; w1 = 8.074680544760001; mse = 122318.06397097581\n",
      "Iteration: 10000; w0 = 99.63944588565495; w1 = 5.156425913533925; mse = 36582.05548914076\n",
      "Iteration: 20000; w0 = 176.8348020776684; w1 = 4.5882483744833245; mse = 24600.363270732945\n",
      "Iteration: 30000; w0 = 236.7341719071708; w1 = 4.147373712855302; mse = 17386.293881109214\n",
      "Iteration: 40000; w0 = 283.2128033036884; w1 = 3.8052791140606974; mse = 13042.767423439807\n",
      "Iteration: 50000; w0 = 319.27767648420047; w1 = 3.5398324356503275; mse = 10427.569111705801\n",
      "Iteration: 60000; w0 = 347.2620434598509; w1 = 3.333860346855704; mse = 8852.981670752433\n",
      "Iteration: 70000; w0 = 368.9763800418267; w1 = 3.1740372832691417; mse = 7904.936699140194\n",
      "Iteration: 80000; w0 = 385.82551633301665; w1 = 3.050023336507317; mse = 7334.12732722293\n",
      "Iteration: 90000; w0 = 398.8995235764479; w1 = 2.953795303792169; mse = 6990.448125471096\n",
      "Iteration: 100000; w0 = 409.0442373734796; w1 = 2.879127619051743; mse = 6783.521961452364\n",
      "Iteration: 110000; w0 = 416.91597983984525; w1 = 2.8211895838744083; mse = 6658.933574557688\n",
      "Iteration: 120000; w0 = 423.02402100261315; w1 = 2.7762328407816126; mse = 6583.920024566936\n",
      "Iteration: 130000; w0 = 427.76352651940203; w1 = 2.7413488695988426; mse = 6538.755039109871\n",
      "Iteration: 140000; w0 = 431.44112330453663; w1 = 2.7142808179170705; mse = 6511.561606568848\n",
      "Iteration: 150000; w0 = 434.29473705519484; w1 = 2.693277491833349; mse = 6495.188684804794\n",
      "Iteration: 160000; w0 = 436.5089850855584; w1 = 2.6769800607597714; mse = 6485.330695502134\n",
      "Iteration: 170000; w0 = 438.2271203233171; w1 = 2.664334146558434; mse = 6479.395288585045\n",
      "Iteration: 180000; w0 = 439.5602991970259; w1 = 2.654521609523253; mse = 6475.821633330437\n",
      "Iteration: 190000; w0 = 440.5947730092419; w1 = 2.6469076180368325; mse = 6473.669967563069\n",
      "Iteration: 200000; w0 = 441.3974680483413; w1 = 2.6409995775222037; mse = 6472.374468908443\n",
      "Iteration: 210000; w0 = 442.02031544977996; w1 = 2.6364152615579997; mse = 6471.5944607912115\n",
      "Iteration: 220000; w0 = 442.50361093135245; w1 = 2.6328580833687942; mse = 6471.124824901747\n",
      "Iteration: 230000; w0 = 442.87862176381464; w1 = 2.6300979078554425; mse = 6470.842061346097\n",
      "Iteration: 240000; w0 = 443.16960963733175; w1 = 2.6279561627813313; mse = 6470.671811946081\n",
      "Iteration: 250000; w0 = 443.39540029510493; w1 = 2.62629428586797; mse = 6470.569306309746\n",
      "Iteration: 260000; w0 = 443.57060148311973; w1 = 2.6250047603737503; mse = 6470.507588585748\n",
      "Iteration: 270000; w0 = 443.70654801246184; w1 = 2.624004159193908; mse = 6470.4704288978355\n",
      "Iteration: 280000; w0 = 443.8120350759256; w1 = 2.6232277474629813; mse = 6470.448055383128\n",
      "Iteration: 290000; w0 = 443.89388726158245; w1 = 2.622625294469608; mse = 6470.434584490648\n",
      "Iteration: 300000; w0 = 443.95740007610897; w1 = 2.622157823932053; mse = 6470.426473787141\n",
      "Iteration: 310000; w0 = 444.0066825427454; w1 = 2.621795092389728; mse = 6470.421590405328\n",
      "Iteration: 320000; w0 = 444.0449230385586; w1 = 2.6215136325730373; mse = 6470.418650164945\n",
      "Iteration: 330000; w0 = 444.0745955695778; w1 = 2.6212952351656855; mse = 6470.416879872594\n",
      "Iteration: 340000; w0 = 444.0976198290292; w1 = 2.6211257707351954; mse = 6470.415813995449\n",
      "Iteration: 350000; w0 = 444.1154853937451; w1 = 2.6209942756156086; mse = 6470.415172240385\n",
      "Iteration: 360000; w0 = 444.12934809379504; w1 = 2.6208922426023875; mse = 6470.4147858454135\n",
      "Iteration: 370000; w0 = 444.140104790028; w1 = 2.6208130705706036; mse = 6470.41455320047\n",
      "Iteration: 380000; w0 = 444.14845139735763; w1 = 2.6207516374087416; mse = 6470.41441312704\n",
      "Iteration: 390000; w0 = 444.1549279076547; w1 = 2.6207039686387046; mse = 6470.41432879008\n",
      "Iteration: 400000; w0 = 444.159953325044; w1 = 2.6206669802831115; mse = 6470.414278011555\n",
      "Iteration: 410000; w0 = 444.1638527737885; w1 = 2.6206382793443432; mse = 6470.41424743826\n",
      "Iteration: 420000; w0 = 444.1668785325158; w1 = 2.620616008987261; mse = 6470.414229030353\n",
      "Iteration: 430000; w0 = 444.1692263556206; w1 = 2.6205987284095213; mse = 6470.414217947122\n",
      "Iteration: 440000; w0 = 444.1710481377995; w1 = 2.62058531962736; mse = 6470.414211274002\n",
      "Iteration: 450000; w0 = 444.1724617410292; w1 = 2.6205749151465225; mse = 6470.414207256183\n",
      "Iteration: 460000; w0 = 444.1735586197359; w1 = 2.6205668418390724; mse = 6470.414204837084\n",
      "Iteration: 470000; w0 = 444.1744097375564; w1 = 2.620560577394518; mse = 6470.414203380568\n",
      "Iteration: 480000; w0 = 444.17507015838595; w1 = 2.6205557165285263; mse = 6470.414202503608\n",
      "Iteration: 490000; w0 = 444.17558260878775; w1 = 2.6205519447626777; mse = 6470.414201975609\n",
      "Iteration: 500000; w0 = 444.1759802422447; w1 = 2.6205490180788695; mse = 6470.414201657699\n",
      "Iteration: 510000; w0 = 444.17628878403735; w1 = 2.620546747132467; mse = 6470.4142014662875\n",
      "Iteration: 520000; w0 = 444.17652819557264; w1 = 2.6205449850024163; mse = 6470.414201351041\n",
      "Iteration: 530000; w0 = 444.1767139658196; w1 = 2.6205436176859487; mse = 6470.41420128165\n",
      "Iteration: 540000; w0 = 444.1768581133559; w1 = 2.6205425567232625; mse = 6470.414201239878\n",
      "Iteration: 550000; w0 = 444.1769699639544; w1 = 2.6205417334742886; mse = 6470.41420121472\n",
      "Iteration: 560000; w0 = 444.177056753893; w1 = 2.620541094678172; mse = 6470.414201199574\n",
      "Iteration: 570000; w0 = 444.1771240981367; w1 = 2.6205405990073376; mse = 6470.414201190462\n",
      "Iteration: 580000; w0 = 444.17717635357843; w1 = 2.6205402143939382; mse = 6470.414201184966\n",
      "Iteration: 590000; w0 = 444.17721690094004; w1 = 2.620539915955001; mse = 6470.414201181659\n",
      "Iteration: 600000; w0 = 444.17724836347435; w1 = 2.6205396843827113; mse = 6470.41420117967\n",
      "Iteration: 610000; w0 = 444.17727277667643; w1 = 2.620539504695309; mse = 6470.414201178473\n",
      "Iteration: 620000; w0 = 444.17729171998695; w1 = 2.620539365267705; mse = 6470.414201177752\n",
      "Iteration: 630000; w0 = 444.17730641896014; w1 = 2.6205392570795074; mse = 6470.414201177317\n",
      "Iteration: 640000; w0 = 444.1773178245555; w1 = 2.6205391731314127; mse = 6470.4142011770555\n",
      "Iteration: 650000; w0 = 444.1773266746748; w1 = 2.6205391079922737; mse = 6470.414201176898\n",
      "Iteration: 660000; w0 = 444.1773335418809; w1 = 2.6205390574478833; mse = 6470.414201176803\n",
      "Iteration: 670000; w0 = 444.17733887045813; w1 = 2.620539018228194; mse = 6470.414201176749\n",
      "Iteration: 680000; w0 = 444.1773430051414; w1 = 2.620538987795869; mse = 6470.414201176713\n",
      "Iteration: 690000; w0 = 444.17734621343016; w1 = 2.620538964182044; mse = 6470.414201176691\n",
      "Iteration: 700000; w0 = 444.17734870288626; w1 = 2.6205389458590114; mse = 6470.414201176682\n",
      "Iteration: 710000; w0 = 444.17735063456865; w1 = 2.6205389316413354; mse = 6470.414201176674\n",
      "Iteration: 720000; w0 = 444.177352133448; w1 = 2.6205389206092007; mse = 6470.414201176663\n",
      "Iteration: 730000; w0 = 444.17735329649673; w1 = 2.6205389120488647; mse = 6470.414201176663\n",
      "Iteration: 740000; w0 = 444.17735419895894; w1 = 2.6205389054065127; mse = 6470.4142011766635\n",
      "Iteration: 750000; w0 = 444.17735489922035; w1 = 2.6205389002524098; mse = 6470.414201176659\n",
      "Iteration: 760000; w0 = 444.17735544258426; w1 = 2.6205388962531124; mse = 6470.414201176658\n",
      "Iteration: 770000; w0 = 444.1773558642052; w1 = 2.6205388931498743; mse = 6470.41420117666\n",
      "Iteration: 780000; w0 = 444.17735619135965; w1 = 2.6205388907419342; mse = 6470.414201176661\n",
      "Iteration: 790000; w0 = 444.17735644521383; w1 = 2.6205388888735026; mse = 6470.414201176657\n",
      "Iteration: 800000; w0 = 444.1773566421911; w1 = 2.6205388874236997; mse = 6470.41420117666\n",
      "Iteration: 810000; w0 = 444.1773567950335; w1 = 2.620538886298741; mse = 6470.41420117666\n",
      "Iteration: 820000; w0 = 444.17735691363146; w1 = 2.6205388854258294; mse = 6470.414201176657\n",
      "Iteration: 830000; w0 = 444.1773570056567; w1 = 2.6205388847485; mse = 6470.41420117666\n",
      "Iteration: 840000; w0 = 444.17735707706396; w1 = 2.620538884222925; mse = 6470.4142011766635\n",
      "Iteration: 850000; w0 = 444.17735713247174; w1 = 2.620538883815109; mse = 6470.414201176659\n",
      "Iteration: 860000; w0 = 444.17735717546606; w1 = 2.62053888349866; mse = 6470.41420117666\n",
      "Iteration: 870000; w0 = 444.17735720882655; w1 = 2.620538883253118; mse = 6470.41420117666\n",
      "Iteration: 880000; w0 = 444.1773572347071; w1 = 2.620538883062631; mse = 6470.414201176658\n",
      "Iteration: 890000; w0 = 444.17735725479184; w1 = 2.620538882914802; mse = 6470.414201176663\n"
     ]
    },
    {
     "name": "stdout",
     "output_type": "stream",
     "text": [
      "Iteration: 900000; w0 = 444.177357270376; w1 = 2.6205388828000986; mse = 6470.414201176658\n",
      "Iteration: 910000; w0 = 444.17735728247294; w1 = 2.620538882711062; mse = 6470.414201176659\n",
      "Iteration: 920000; w0 = 444.1773572918675; w1 = 2.6205388826419154; mse = 6470.414201176662\n",
      "Iteration: 930000; w0 = 444.17735729913204; w1 = 2.6205388825884466; mse = 6470.414201176659\n",
      "Iteration: 940000; w0 = 444.1773573047809; w1 = 2.6205388825468696; mse = 6470.414201176658\n",
      "Iteration: 950000; w0 = 444.17735730915825; w1 = 2.620538882514651; mse = 6470.414201176656\n",
      "Iteration: 960000; w0 = 444.17735731255567; w1 = 2.620538882489645; mse = 6470.414201176658\n",
      "Iteration: 970000; w0 = 444.1773573151735; w1 = 2.6205388824703775; mse = 6470.414201176659\n",
      "Iteration: 980000; w0 = 444.1773573172146; w1 = 2.6205388824553544; mse = 6470.414201176658\n",
      "Iteration: 990000; w0 = 444.1773573188658; w1 = 2.6205388824432005; mse = 6470.414201176658\n",
      "Iteration: 1000000; w0 = 444.17735732000267; w1 = 2.620538882434834; mse = 6470.414201176662\n",
      "Iteration: 1010000; w0 = 444.17735732106894; w1 = 2.6205388824269855; mse = 6470.414201176655\n",
      "Iteration: 1020000; w0 = 444.1773573216374; w1 = 2.6205388824228018; mse = 6470.414201176654\n",
      "Iteration: 1030000; w0 = 444.1773573222058; w1 = 2.620538882418618; mse = 6470.414201176657\n",
      "Iteration: 1040000; w0 = 444.17735732277424; w1 = 2.620538882414434; mse = 6470.414201176663\n",
      "Iteration: 1050000; w0 = 444.17735732323916; w1 = 2.620538882411012; mse = 6470.414201176657\n",
      "Iteration: 1060000; w0 = 444.17735732323916; w1 = 2.620538882411012; mse = 6470.414201176657\n",
      "Iteration: 1070000; w0 = 444.17735732323916; w1 = 2.620538882411012; mse = 6470.414201176657\n",
      "Iteration: 1080000; w0 = 444.17735732323916; w1 = 2.620538882411012; mse = 6470.414201176657\n",
      "Iteration: 1090000; w0 = 444.17735732323916; w1 = 2.620538882411012; mse = 6470.414201176657\n",
      "Iteration: 1100000; w0 = 444.17735732323916; w1 = 2.620538882411012; mse = 6470.414201176657\n",
      "Iteration: 1110000; w0 = 444.17735732323916; w1 = 2.620538882411012; mse = 6470.414201176657\n",
      "Iteration: 1120000; w0 = 444.17735732323916; w1 = 2.620538882411012; mse = 6470.414201176657\n",
      "Iteration: 1130000; w0 = 444.17735732323916; w1 = 2.620538882411012; mse = 6470.414201176657\n",
      "Iteration: 1140000; w0 = 444.17735732323916; w1 = 2.620538882411012; mse = 6470.414201176657\n",
      "Iteration: 1150000; w0 = 444.17735732323916; w1 = 2.620538882411012; mse = 6470.414201176657\n",
      "Iteration: 1160000; w0 = 444.17735732323916; w1 = 2.620538882411012; mse = 6470.414201176657\n",
      "Iteration: 1170000; w0 = 444.17735732323916; w1 = 2.620538882411012; mse = 6470.414201176657\n",
      "Iteration: 1180000; w0 = 444.17735732323916; w1 = 2.620538882411012; mse = 6470.414201176657\n",
      "Iteration: 1190000; w0 = 444.17735732323916; w1 = 2.620538882411012; mse = 6470.414201176657\n",
      "Iteration: 1200000; w0 = 444.17735732323916; w1 = 2.620538882411012; mse = 6470.414201176657\n",
      "Iteration: 1210000; w0 = 444.17735732323916; w1 = 2.620538882411012; mse = 6470.414201176657\n",
      "Iteration: 1220000; w0 = 444.17735732323916; w1 = 2.620538882411012; mse = 6470.414201176657\n",
      "Iteration: 1230000; w0 = 444.17735732323916; w1 = 2.620538882411012; mse = 6470.414201176657\n",
      "Iteration: 1240000; w0 = 444.17735732323916; w1 = 2.620538882411012; mse = 6470.414201176657\n",
      "Iteration: 1250000; w0 = 444.17735732323916; w1 = 2.620538882411012; mse = 6470.414201176657\n",
      "Iteration: 1260000; w0 = 444.17735732323916; w1 = 2.620538882411012; mse = 6470.414201176657\n",
      "Iteration: 1270000; w0 = 444.17735732323916; w1 = 2.620538882411012; mse = 6470.414201176657\n",
      "Iteration: 1280000; w0 = 444.17735732323916; w1 = 2.620538882411012; mse = 6470.414201176657\n",
      "Iteration: 1290000; w0 = 444.17735732323916; w1 = 2.620538882411012; mse = 6470.414201176657\n",
      "Iteration: 1300000; w0 = 444.17735732323916; w1 = 2.620538882411012; mse = 6470.414201176657\n",
      "Iteration: 1310000; w0 = 444.17735732323916; w1 = 2.620538882411012; mse = 6470.414201176657\n",
      "Iteration: 1320000; w0 = 444.17735732323916; w1 = 2.620538882411012; mse = 6470.414201176657\n",
      "Iteration: 1330000; w0 = 444.17735732323916; w1 = 2.620538882411012; mse = 6470.414201176657\n",
      "Iteration: 1340000; w0 = 444.17735732323916; w1 = 2.620538882411012; mse = 6470.414201176657\n",
      "Iteration: 1350000; w0 = 444.17735732323916; w1 = 2.620538882411012; mse = 6470.414201176657\n",
      "Iteration: 1360000; w0 = 444.17735732323916; w1 = 2.620538882411012; mse = 6470.414201176657\n",
      "Iteration: 1370000; w0 = 444.17735732323916; w1 = 2.620538882411012; mse = 6470.414201176657\n",
      "Iteration: 1380000; w0 = 444.17735732323916; w1 = 2.620538882411012; mse = 6470.414201176657\n",
      "Iteration: 1390000; w0 = 444.17735732323916; w1 = 2.620538882411012; mse = 6470.414201176657\n",
      "Iteration: 1400000; w0 = 444.17735732323916; w1 = 2.620538882411012; mse = 6470.414201176657\n",
      "Iteration: 1410000; w0 = 444.17735732323916; w1 = 2.620538882411012; mse = 6470.414201176657\n",
      "Iteration: 1420000; w0 = 444.17735732323916; w1 = 2.620538882411012; mse = 6470.414201176657\n",
      "Iteration: 1430000; w0 = 444.17735732323916; w1 = 2.620538882411012; mse = 6470.414201176657\n",
      "Iteration: 1440000; w0 = 444.17735732323916; w1 = 2.620538882411012; mse = 6470.414201176657\n",
      "Iteration: 1450000; w0 = 444.17735732323916; w1 = 2.620538882411012; mse = 6470.414201176657\n",
      "Iteration: 1460000; w0 = 444.17735732323916; w1 = 2.620538882411012; mse = 6470.414201176657\n",
      "Iteration: 1470000; w0 = 444.17735732323916; w1 = 2.620538882411012; mse = 6470.414201176657\n",
      "Iteration: 1480000; w0 = 444.17735732323916; w1 = 2.620538882411012; mse = 6470.414201176657\n",
      "Iteration: 1490000; w0 = 444.17735732323916; w1 = 2.620538882411012; mse = 6470.414201176657\n",
      "Iteration: 1500000; w0 = 444.17735732323916; w1 = 2.620538882411012; mse = 6470.414201176657\n",
      "Iteration: 1510000; w0 = 444.17735732323916; w1 = 2.620538882411012; mse = 6470.414201176657\n",
      "Iteration: 1520000; w0 = 444.17735732323916; w1 = 2.620538882411012; mse = 6470.414201176657\n",
      "Iteration: 1530000; w0 = 444.17735732323916; w1 = 2.620538882411012; mse = 6470.414201176657\n",
      "Iteration: 1540000; w0 = 444.17735732323916; w1 = 2.620538882411012; mse = 6470.414201176657\n",
      "Iteration: 1550000; w0 = 444.17735732323916; w1 = 2.620538882411012; mse = 6470.414201176657\n",
      "Iteration: 1560000; w0 = 444.17735732323916; w1 = 2.620538882411012; mse = 6470.414201176657\n",
      "Iteration: 1570000; w0 = 444.17735732323916; w1 = 2.620538882411012; mse = 6470.414201176657\n",
      "Iteration: 1580000; w0 = 444.17735732323916; w1 = 2.620538882411012; mse = 6470.414201176657\n",
      "Iteration: 1590000; w0 = 444.17735732323916; w1 = 2.620538882411012; mse = 6470.414201176657\n",
      "Iteration: 1600000; w0 = 444.17735732323916; w1 = 2.620538882411012; mse = 6470.414201176657\n",
      "Iteration: 1610000; w0 = 444.17735732323916; w1 = 2.620538882411012; mse = 6470.414201176657\n",
      "Iteration: 1620000; w0 = 444.17735732323916; w1 = 2.620538882411012; mse = 6470.414201176657\n",
      "Iteration: 1630000; w0 = 444.17735732323916; w1 = 2.620538882411012; mse = 6470.414201176657\n",
      "Iteration: 1640000; w0 = 444.17735732323916; w1 = 2.620538882411012; mse = 6470.414201176657\n",
      "Iteration: 1650000; w0 = 444.17735732323916; w1 = 2.620538882411012; mse = 6470.414201176657\n",
      "Iteration: 1660000; w0 = 444.17735732323916; w1 = 2.620538882411012; mse = 6470.414201176657\n",
      "Iteration: 1670000; w0 = 444.17735732323916; w1 = 2.620538882411012; mse = 6470.414201176657\n",
      "Iteration: 1680000; w0 = 444.17735732323916; w1 = 2.620538882411012; mse = 6470.414201176657\n",
      "Iteration: 1690000; w0 = 444.17735732323916; w1 = 2.620538882411012; mse = 6470.414201176657\n",
      "Iteration: 1700000; w0 = 444.17735732323916; w1 = 2.620538882411012; mse = 6470.414201176657\n",
      "Iteration: 1710000; w0 = 444.17735732323916; w1 = 2.620538882411012; mse = 6470.414201176657\n",
      "Iteration: 1720000; w0 = 444.17735732323916; w1 = 2.620538882411012; mse = 6470.414201176657\n",
      "Iteration: 1730000; w0 = 444.17735732323916; w1 = 2.620538882411012; mse = 6470.414201176657\n",
      "Iteration: 1740000; w0 = 444.17735732323916; w1 = 2.620538882411012; mse = 6470.414201176657\n",
      "Iteration: 1750000; w0 = 444.17735732323916; w1 = 2.620538882411012; mse = 6470.414201176657\n",
      "Iteration: 1760000; w0 = 444.17735732323916; w1 = 2.620538882411012; mse = 6470.414201176657\n",
      "Iteration: 1770000; w0 = 444.17735732323916; w1 = 2.620538882411012; mse = 6470.414201176657\n",
      "Iteration: 1780000; w0 = 444.17735732323916; w1 = 2.620538882411012; mse = 6470.414201176657\n",
      "Iteration: 1790000; w0 = 444.17735732323916; w1 = 2.620538882411012; mse = 6470.414201176657\n"
     ]
    },
    {
     "name": "stdout",
     "output_type": "stream",
     "text": [
      "Iteration: 1800000; w0 = 444.17735732323916; w1 = 2.620538882411012; mse = 6470.414201176657\n",
      "Iteration: 1810000; w0 = 444.17735732323916; w1 = 2.620538882411012; mse = 6470.414201176657\n",
      "Iteration: 1820000; w0 = 444.17735732323916; w1 = 2.620538882411012; mse = 6470.414201176657\n",
      "Iteration: 1830000; w0 = 444.17735732323916; w1 = 2.620538882411012; mse = 6470.414201176657\n",
      "Iteration: 1840000; w0 = 444.17735732323916; w1 = 2.620538882411012; mse = 6470.414201176657\n",
      "Iteration: 1850000; w0 = 444.17735732323916; w1 = 2.620538882411012; mse = 6470.414201176657\n",
      "Iteration: 1860000; w0 = 444.17735732323916; w1 = 2.620538882411012; mse = 6470.414201176657\n",
      "Iteration: 1870000; w0 = 444.17735732323916; w1 = 2.620538882411012; mse = 6470.414201176657\n",
      "Iteration: 1880000; w0 = 444.17735732323916; w1 = 2.620538882411012; mse = 6470.414201176657\n",
      "Iteration: 1890000; w0 = 444.17735732323916; w1 = 2.620538882411012; mse = 6470.414201176657\n",
      "Iteration: 1900000; w0 = 444.17735732323916; w1 = 2.620538882411012; mse = 6470.414201176657\n",
      "Iteration: 1910000; w0 = 444.17735732323916; w1 = 2.620538882411012; mse = 6470.414201176657\n",
      "Iteration: 1920000; w0 = 444.17735732323916; w1 = 2.620538882411012; mse = 6470.414201176657\n",
      "Iteration: 1930000; w0 = 444.17735732323916; w1 = 2.620538882411012; mse = 6470.414201176657\n",
      "Iteration: 1940000; w0 = 444.17735732323916; w1 = 2.620538882411012; mse = 6470.414201176657\n",
      "Iteration: 1950000; w0 = 444.17735732323916; w1 = 2.620538882411012; mse = 6470.414201176657\n",
      "Iteration: 1960000; w0 = 444.17735732323916; w1 = 2.620538882411012; mse = 6470.414201176657\n",
      "Iteration: 1970000; w0 = 444.17735732323916; w1 = 2.620538882411012; mse = 6470.414201176657\n",
      "Iteration: 1980000; w0 = 444.17735732323916; w1 = 2.620538882411012; mse = 6470.414201176657\n",
      "Iteration: 1990000; w0 = 444.17735732323916; w1 = 2.620538882411012; mse = 6470.414201176657\n",
      "Iteration: 2000000; w0 = 444.17735732323916; w1 = 2.620538882411012; mse = 6470.414201176657\n",
      "Iteration: 2010000; w0 = 444.17735732323916; w1 = 2.620538882411012; mse = 6470.414201176657\n",
      "Iteration: 2020000; w0 = 444.17735732323916; w1 = 2.620538882411012; mse = 6470.414201176657\n",
      "Iteration: 2030000; w0 = 444.17735732323916; w1 = 2.620538882411012; mse = 6470.414201176657\n",
      "Iteration: 2040000; w0 = 444.17735732323916; w1 = 2.620538882411012; mse = 6470.414201176657\n",
      "Iteration: 2050000; w0 = 444.17735732323916; w1 = 2.620538882411012; mse = 6470.414201176657\n",
      "Iteration: 2060000; w0 = 444.17735732323916; w1 = 2.620538882411012; mse = 6470.414201176657\n",
      "Iteration: 2070000; w0 = 444.17735732323916; w1 = 2.620538882411012; mse = 6470.414201176657\n",
      "Iteration: 2080000; w0 = 444.17735732323916; w1 = 2.620538882411012; mse = 6470.414201176657\n",
      "Iteration: 2090000; w0 = 444.17735732323916; w1 = 2.620538882411012; mse = 6470.414201176657\n",
      "Iteration: 2100000; w0 = 444.17735732323916; w1 = 2.620538882411012; mse = 6470.414201176657\n",
      "Iteration: 2110000; w0 = 444.17735732323916; w1 = 2.620538882411012; mse = 6470.414201176657\n",
      "Iteration: 2120000; w0 = 444.17735732323916; w1 = 2.620538882411012; mse = 6470.414201176657\n",
      "Iteration: 2130000; w0 = 444.17735732323916; w1 = 2.620538882411012; mse = 6470.414201176657\n",
      "Iteration: 2140000; w0 = 444.17735732323916; w1 = 2.620538882411012; mse = 6470.414201176657\n",
      "Iteration: 2150000; w0 = 444.17735732323916; w1 = 2.620538882411012; mse = 6470.414201176657\n",
      "Iteration: 2160000; w0 = 444.17735732323916; w1 = 2.620538882411012; mse = 6470.414201176657\n",
      "Iteration: 2170000; w0 = 444.17735732323916; w1 = 2.620538882411012; mse = 6470.414201176657\n",
      "Iteration: 2180000; w0 = 444.17735732323916; w1 = 2.620538882411012; mse = 6470.414201176657\n",
      "Iteration: 2190000; w0 = 444.17735732323916; w1 = 2.620538882411012; mse = 6470.414201176657\n",
      "Iteration: 2200000; w0 = 444.17735732323916; w1 = 2.620538882411012; mse = 6470.414201176657\n",
      "Iteration: 2210000; w0 = 444.17735732323916; w1 = 2.620538882411012; mse = 6470.414201176657\n",
      "Iteration: 2220000; w0 = 444.17735732323916; w1 = 2.620538882411012; mse = 6470.414201176657\n",
      "Iteration: 2230000; w0 = 444.17735732323916; w1 = 2.620538882411012; mse = 6470.414201176657\n",
      "Iteration: 2240000; w0 = 444.17735732323916; w1 = 2.620538882411012; mse = 6470.414201176657\n",
      "Iteration: 2250000; w0 = 444.17735732323916; w1 = 2.620538882411012; mse = 6470.414201176657\n",
      "Iteration: 2260000; w0 = 444.17735732323916; w1 = 2.620538882411012; mse = 6470.414201176657\n",
      "Iteration: 2270000; w0 = 444.17735732323916; w1 = 2.620538882411012; mse = 6470.414201176657\n",
      "Iteration: 2280000; w0 = 444.17735732323916; w1 = 2.620538882411012; mse = 6470.414201176657\n",
      "Iteration: 2290000; w0 = 444.17735732323916; w1 = 2.620538882411012; mse = 6470.414201176657\n",
      "Iteration: 2300000; w0 = 444.17735732323916; w1 = 2.620538882411012; mse = 6470.414201176657\n",
      "Iteration: 2310000; w0 = 444.17735732323916; w1 = 2.620538882411012; mse = 6470.414201176657\n",
      "Iteration: 2320000; w0 = 444.17735732323916; w1 = 2.620538882411012; mse = 6470.414201176657\n",
      "Iteration: 2330000; w0 = 444.17735732323916; w1 = 2.620538882411012; mse = 6470.414201176657\n",
      "Iteration: 2340000; w0 = 444.17735732323916; w1 = 2.620538882411012; mse = 6470.414201176657\n",
      "Iteration: 2350000; w0 = 444.17735732323916; w1 = 2.620538882411012; mse = 6470.414201176657\n",
      "Iteration: 2360000; w0 = 444.17735732323916; w1 = 2.620538882411012; mse = 6470.414201176657\n",
      "Iteration: 2370000; w0 = 444.17735732323916; w1 = 2.620538882411012; mse = 6470.414201176657\n",
      "Iteration: 2380000; w0 = 444.17735732323916; w1 = 2.620538882411012; mse = 6470.414201176657\n",
      "Iteration: 2390000; w0 = 444.17735732323916; w1 = 2.620538882411012; mse = 6470.414201176657\n",
      "Iteration: 2400000; w0 = 444.17735732323916; w1 = 2.620538882411012; mse = 6470.414201176657\n",
      "Iteration: 2410000; w0 = 444.17735732323916; w1 = 2.620538882411012; mse = 6470.414201176657\n",
      "Iteration: 2420000; w0 = 444.17735732323916; w1 = 2.620538882411012; mse = 6470.414201176657\n",
      "Iteration: 2430000; w0 = 444.17735732323916; w1 = 2.620538882411012; mse = 6470.414201176657\n",
      "Iteration: 2440000; w0 = 444.17735732323916; w1 = 2.620538882411012; mse = 6470.414201176657\n",
      "Iteration: 2450000; w0 = 444.17735732323916; w1 = 2.620538882411012; mse = 6470.414201176657\n",
      "Iteration: 2460000; w0 = 444.17735732323916; w1 = 2.620538882411012; mse = 6470.414201176657\n",
      "Iteration: 2470000; w0 = 444.17735732323916; w1 = 2.620538882411012; mse = 6470.414201176657\n",
      "Iteration: 2480000; w0 = 444.17735732323916; w1 = 2.620538882411012; mse = 6470.414201176657\n",
      "Iteration: 2490000; w0 = 444.17735732323916; w1 = 2.620538882411012; mse = 6470.414201176657\n",
      "Iteration: 2500000; w0 = 444.17735732323916; w1 = 2.620538882411012; mse = 6470.414201176657\n",
      "Iteration: 2510000; w0 = 444.17735732323916; w1 = 2.620538882411012; mse = 6470.414201176657\n",
      "Iteration: 2520000; w0 = 444.17735732323916; w1 = 2.620538882411012; mse = 6470.414201176657\n",
      "Iteration: 2530000; w0 = 444.17735732323916; w1 = 2.620538882411012; mse = 6470.414201176657\n",
      "Iteration: 2540000; w0 = 444.17735732323916; w1 = 2.620538882411012; mse = 6470.414201176657\n",
      "Iteration: 2550000; w0 = 444.17735732323916; w1 = 2.620538882411012; mse = 6470.414201176657\n",
      "Iteration: 2560000; w0 = 444.17735732323916; w1 = 2.620538882411012; mse = 6470.414201176657\n",
      "Iteration: 2570000; w0 = 444.17735732323916; w1 = 2.620538882411012; mse = 6470.414201176657\n",
      "Iteration: 2580000; w0 = 444.17735732323916; w1 = 2.620538882411012; mse = 6470.414201176657\n",
      "Iteration: 2590000; w0 = 444.17735732323916; w1 = 2.620538882411012; mse = 6470.414201176657\n",
      "Iteration: 2600000; w0 = 444.17735732323916; w1 = 2.620538882411012; mse = 6470.414201176657\n",
      "Iteration: 2610000; w0 = 444.17735732323916; w1 = 2.620538882411012; mse = 6470.414201176657\n",
      "Iteration: 2620000; w0 = 444.17735732323916; w1 = 2.620538882411012; mse = 6470.414201176657\n",
      "Iteration: 2630000; w0 = 444.17735732323916; w1 = 2.620538882411012; mse = 6470.414201176657\n",
      "Iteration: 2640000; w0 = 444.17735732323916; w1 = 2.620538882411012; mse = 6470.414201176657\n",
      "Iteration: 2650000; w0 = 444.17735732323916; w1 = 2.620538882411012; mse = 6470.414201176657\n",
      "Iteration: 2660000; w0 = 444.17735732323916; w1 = 2.620538882411012; mse = 6470.414201176657\n",
      "Iteration: 2670000; w0 = 444.17735732323916; w1 = 2.620538882411012; mse = 6470.414201176657\n",
      "Iteration: 2680000; w0 = 444.17735732323916; w1 = 2.620538882411012; mse = 6470.414201176657\n",
      "Iteration: 2690000; w0 = 444.17735732323916; w1 = 2.620538882411012; mse = 6470.414201176657\n"
     ]
    },
    {
     "name": "stdout",
     "output_type": "stream",
     "text": [
      "Iteration: 2700000; w0 = 444.17735732323916; w1 = 2.620538882411012; mse = 6470.414201176657\n",
      "Iteration: 2710000; w0 = 444.17735732323916; w1 = 2.620538882411012; mse = 6470.414201176657\n",
      "Iteration: 2720000; w0 = 444.17735732323916; w1 = 2.620538882411012; mse = 6470.414201176657\n",
      "Iteration: 2730000; w0 = 444.17735732323916; w1 = 2.620538882411012; mse = 6470.414201176657\n",
      "Iteration: 2740000; w0 = 444.17735732323916; w1 = 2.620538882411012; mse = 6470.414201176657\n",
      "Iteration: 2750000; w0 = 444.17735732323916; w1 = 2.620538882411012; mse = 6470.414201176657\n",
      "Iteration: 2760000; w0 = 444.17735732323916; w1 = 2.620538882411012; mse = 6470.414201176657\n",
      "Iteration: 2770000; w0 = 444.17735732323916; w1 = 2.620538882411012; mse = 6470.414201176657\n",
      "Iteration: 2780000; w0 = 444.17735732323916; w1 = 2.620538882411012; mse = 6470.414201176657\n",
      "Iteration: 2790000; w0 = 444.17735732323916; w1 = 2.620538882411012; mse = 6470.414201176657\n",
      "Iteration: 2800000; w0 = 444.17735732323916; w1 = 2.620538882411012; mse = 6470.414201176657\n",
      "Iteration: 2810000; w0 = 444.17735732323916; w1 = 2.620538882411012; mse = 6470.414201176657\n",
      "Iteration: 2820000; w0 = 444.17735732323916; w1 = 2.620538882411012; mse = 6470.414201176657\n",
      "Iteration: 2830000; w0 = 444.17735732323916; w1 = 2.620538882411012; mse = 6470.414201176657\n",
      "Iteration: 2840000; w0 = 444.17735732323916; w1 = 2.620538882411012; mse = 6470.414201176657\n",
      "Iteration: 2850000; w0 = 444.17735732323916; w1 = 2.620538882411012; mse = 6470.414201176657\n",
      "Iteration: 2860000; w0 = 444.17735732323916; w1 = 2.620538882411012; mse = 6470.414201176657\n",
      "Iteration: 2870000; w0 = 444.17735732323916; w1 = 2.620538882411012; mse = 6470.414201176657\n",
      "Iteration: 2880000; w0 = 444.17735732323916; w1 = 2.620538882411012; mse = 6470.414201176657\n",
      "Iteration: 2890000; w0 = 444.17735732323916; w1 = 2.620538882411012; mse = 6470.414201176657\n",
      "Iteration: 2900000; w0 = 444.17735732323916; w1 = 2.620538882411012; mse = 6470.414201176657\n",
      "Iteration: 2910000; w0 = 444.17735732323916; w1 = 2.620538882411012; mse = 6470.414201176657\n",
      "Iteration: 2920000; w0 = 444.17735732323916; w1 = 2.620538882411012; mse = 6470.414201176657\n",
      "Iteration: 2930000; w0 = 444.17735732323916; w1 = 2.620538882411012; mse = 6470.414201176657\n",
      "Iteration: 2940000; w0 = 444.17735732323916; w1 = 2.620538882411012; mse = 6470.414201176657\n",
      "Iteration: 2950000; w0 = 444.17735732323916; w1 = 2.620538882411012; mse = 6470.414201176657\n",
      "Iteration: 2960000; w0 = 444.17735732323916; w1 = 2.620538882411012; mse = 6470.414201176657\n",
      "Iteration: 2970000; w0 = 444.17735732323916; w1 = 2.620538882411012; mse = 6470.414201176657\n",
      "Iteration: 2980000; w0 = 444.17735732323916; w1 = 2.620538882411012; mse = 6470.414201176657\n",
      "Iteration: 2990000; w0 = 444.17735732323916; w1 = 2.620538882411012; mse = 6470.414201176657\n",
      "Iteration: 3000000; w0 = 444.17735732323916; w1 = 2.620538882411012; mse = 6470.414201176657\n",
      "Iteration: 3010000; w0 = 444.17735732323916; w1 = 2.620538882411012; mse = 6470.414201176657\n",
      "Iteration: 3020000; w0 = 444.17735732323916; w1 = 2.620538882411012; mse = 6470.414201176657\n",
      "Iteration: 3030000; w0 = 444.17735732323916; w1 = 2.620538882411012; mse = 6470.414201176657\n",
      "Iteration: 3040000; w0 = 444.17735732323916; w1 = 2.620538882411012; mse = 6470.414201176657\n",
      "Iteration: 3050000; w0 = 444.17735732323916; w1 = 2.620538882411012; mse = 6470.414201176657\n",
      "Iteration: 3060000; w0 = 444.17735732323916; w1 = 2.620538882411012; mse = 6470.414201176657\n",
      "Iteration: 3070000; w0 = 444.17735732323916; w1 = 2.620538882411012; mse = 6470.414201176657\n",
      "Iteration: 3080000; w0 = 444.17735732323916; w1 = 2.620538882411012; mse = 6470.414201176657\n",
      "Iteration: 3090000; w0 = 444.17735732323916; w1 = 2.620538882411012; mse = 6470.414201176657\n",
      "Iteration: 3100000; w0 = 444.17735732323916; w1 = 2.620538882411012; mse = 6470.414201176657\n",
      "Iteration: 3110000; w0 = 444.17735732323916; w1 = 2.620538882411012; mse = 6470.414201176657\n",
      "Iteration: 3120000; w0 = 444.17735732323916; w1 = 2.620538882411012; mse = 6470.414201176657\n",
      "Iteration: 3130000; w0 = 444.17735732323916; w1 = 2.620538882411012; mse = 6470.414201176657\n",
      "Iteration: 3140000; w0 = 444.17735732323916; w1 = 2.620538882411012; mse = 6470.414201176657\n",
      "Iteration: 3150000; w0 = 444.17735732323916; w1 = 2.620538882411012; mse = 6470.414201176657\n",
      "Iteration: 3160000; w0 = 444.17735732323916; w1 = 2.620538882411012; mse = 6470.414201176657\n",
      "Iteration: 3170000; w0 = 444.17735732323916; w1 = 2.620538882411012; mse = 6470.414201176657\n",
      "Iteration: 3180000; w0 = 444.17735732323916; w1 = 2.620538882411012; mse = 6470.414201176657\n",
      "Iteration: 3190000; w0 = 444.17735732323916; w1 = 2.620538882411012; mse = 6470.414201176657\n",
      "Iteration: 3200000; w0 = 444.17735732323916; w1 = 2.620538882411012; mse = 6470.414201176657\n",
      "Iteration: 3210000; w0 = 444.17735732323916; w1 = 2.620538882411012; mse = 6470.414201176657\n",
      "Iteration: 3220000; w0 = 444.17735732323916; w1 = 2.620538882411012; mse = 6470.414201176657\n",
      "Iteration: 3230000; w0 = 444.17735732323916; w1 = 2.620538882411012; mse = 6470.414201176657\n",
      "Iteration: 3240000; w0 = 444.17735732323916; w1 = 2.620538882411012; mse = 6470.414201176657\n",
      "Iteration: 3250000; w0 = 444.17735732323916; w1 = 2.620538882411012; mse = 6470.414201176657\n",
      "Iteration: 3260000; w0 = 444.17735732323916; w1 = 2.620538882411012; mse = 6470.414201176657\n",
      "Iteration: 3270000; w0 = 444.17735732323916; w1 = 2.620538882411012; mse = 6470.414201176657\n",
      "Iteration: 3280000; w0 = 444.17735732323916; w1 = 2.620538882411012; mse = 6470.414201176657\n",
      "Iteration: 3290000; w0 = 444.17735732323916; w1 = 2.620538882411012; mse = 6470.414201176657\n",
      "Iteration: 3300000; w0 = 444.17735732323916; w1 = 2.620538882411012; mse = 6470.414201176657\n",
      "Iteration: 3310000; w0 = 444.17735732323916; w1 = 2.620538882411012; mse = 6470.414201176657\n",
      "Iteration: 3320000; w0 = 444.17735732323916; w1 = 2.620538882411012; mse = 6470.414201176657\n",
      "Iteration: 3330000; w0 = 444.17735732323916; w1 = 2.620538882411012; mse = 6470.414201176657\n",
      "Iteration: 3340000; w0 = 444.17735732323916; w1 = 2.620538882411012; mse = 6470.414201176657\n",
      "Iteration: 3350000; w0 = 444.17735732323916; w1 = 2.620538882411012; mse = 6470.414201176657\n",
      "Iteration: 3360000; w0 = 444.17735732323916; w1 = 2.620538882411012; mse = 6470.414201176657\n",
      "Iteration: 3370000; w0 = 444.17735732323916; w1 = 2.620538882411012; mse = 6470.414201176657\n",
      "Iteration: 3380000; w0 = 444.17735732323916; w1 = 2.620538882411012; mse = 6470.414201176657\n",
      "Iteration: 3390000; w0 = 444.17735732323916; w1 = 2.620538882411012; mse = 6470.414201176657\n",
      "Iteration: 3400000; w0 = 444.17735732323916; w1 = 2.620538882411012; mse = 6470.414201176657\n",
      "Iteration: 3410000; w0 = 444.17735732323916; w1 = 2.620538882411012; mse = 6470.414201176657\n",
      "Iteration: 3420000; w0 = 444.17735732323916; w1 = 2.620538882411012; mse = 6470.414201176657\n",
      "Iteration: 3430000; w0 = 444.17735732323916; w1 = 2.620538882411012; mse = 6470.414201176657\n",
      "Iteration: 3440000; w0 = 444.17735732323916; w1 = 2.620538882411012; mse = 6470.414201176657\n",
      "Iteration: 3450000; w0 = 444.17735732323916; w1 = 2.620538882411012; mse = 6470.414201176657\n",
      "Iteration: 3460000; w0 = 444.17735732323916; w1 = 2.620538882411012; mse = 6470.414201176657\n",
      "Iteration: 3470000; w0 = 444.17735732323916; w1 = 2.620538882411012; mse = 6470.414201176657\n",
      "Iteration: 3480000; w0 = 444.17735732323916; w1 = 2.620538882411012; mse = 6470.414201176657\n",
      "Iteration: 3490000; w0 = 444.17735732323916; w1 = 2.620538882411012; mse = 6470.414201176657\n",
      "Iteration: 3500000; w0 = 444.17735732323916; w1 = 2.620538882411012; mse = 6470.414201176657\n",
      "Iteration: 3510000; w0 = 444.17735732323916; w1 = 2.620538882411012; mse = 6470.414201176657\n",
      "Iteration: 3520000; w0 = 444.17735732323916; w1 = 2.620538882411012; mse = 6470.414201176657\n",
      "Iteration: 3530000; w0 = 444.17735732323916; w1 = 2.620538882411012; mse = 6470.414201176657\n",
      "Iteration: 3540000; w0 = 444.17735732323916; w1 = 2.620538882411012; mse = 6470.414201176657\n",
      "Iteration: 3550000; w0 = 444.17735732323916; w1 = 2.620538882411012; mse = 6470.414201176657\n",
      "Iteration: 3560000; w0 = 444.17735732323916; w1 = 2.620538882411012; mse = 6470.414201176657\n",
      "Iteration: 3570000; w0 = 444.17735732323916; w1 = 2.620538882411012; mse = 6470.414201176657\n",
      "Iteration: 3580000; w0 = 444.17735732323916; w1 = 2.620538882411012; mse = 6470.414201176657\n",
      "Iteration: 3590000; w0 = 444.17735732323916; w1 = 2.620538882411012; mse = 6470.414201176657\n"
     ]
    },
    {
     "name": "stdout",
     "output_type": "stream",
     "text": [
      "Iteration: 3600000; w0 = 444.17735732323916; w1 = 2.620538882411012; mse = 6470.414201176657\n",
      "Iteration: 3610000; w0 = 444.17735732323916; w1 = 2.620538882411012; mse = 6470.414201176657\n",
      "Iteration: 3620000; w0 = 444.17735732323916; w1 = 2.620538882411012; mse = 6470.414201176657\n",
      "Iteration: 3630000; w0 = 444.17735732323916; w1 = 2.620538882411012; mse = 6470.414201176657\n",
      "Iteration: 3640000; w0 = 444.17735732323916; w1 = 2.620538882411012; mse = 6470.414201176657\n",
      "Iteration: 3650000; w0 = 444.17735732323916; w1 = 2.620538882411012; mse = 6470.414201176657\n",
      "Iteration: 3660000; w0 = 444.17735732323916; w1 = 2.620538882411012; mse = 6470.414201176657\n",
      "Iteration: 3670000; w0 = 444.17735732323916; w1 = 2.620538882411012; mse = 6470.414201176657\n",
      "Iteration: 3680000; w0 = 444.17735732323916; w1 = 2.620538882411012; mse = 6470.414201176657\n",
      "Iteration: 3690000; w0 = 444.17735732323916; w1 = 2.620538882411012; mse = 6470.414201176657\n",
      "Iteration: 3700000; w0 = 444.17735732323916; w1 = 2.620538882411012; mse = 6470.414201176657\n",
      "Iteration: 3710000; w0 = 444.17735732323916; w1 = 2.620538882411012; mse = 6470.414201176657\n",
      "Iteration: 3720000; w0 = 444.17735732323916; w1 = 2.620538882411012; mse = 6470.414201176657\n",
      "Iteration: 3730000; w0 = 444.17735732323916; w1 = 2.620538882411012; mse = 6470.414201176657\n",
      "Iteration: 3740000; w0 = 444.17735732323916; w1 = 2.620538882411012; mse = 6470.414201176657\n",
      "Iteration: 3750000; w0 = 444.17735732323916; w1 = 2.620538882411012; mse = 6470.414201176657\n",
      "Iteration: 3760000; w0 = 444.17735732323916; w1 = 2.620538882411012; mse = 6470.414201176657\n",
      "Iteration: 3770000; w0 = 444.17735732323916; w1 = 2.620538882411012; mse = 6470.414201176657\n",
      "Iteration: 3780000; w0 = 444.17735732323916; w1 = 2.620538882411012; mse = 6470.414201176657\n",
      "Iteration: 3790000; w0 = 444.17735732323916; w1 = 2.620538882411012; mse = 6470.414201176657\n",
      "Iteration: 3800000; w0 = 444.17735732323916; w1 = 2.620538882411012; mse = 6470.414201176657\n",
      "Iteration: 3810000; w0 = 444.17735732323916; w1 = 2.620538882411012; mse = 6470.414201176657\n",
      "Iteration: 3820000; w0 = 444.17735732323916; w1 = 2.620538882411012; mse = 6470.414201176657\n",
      "Iteration: 3830000; w0 = 444.17735732323916; w1 = 2.620538882411012; mse = 6470.414201176657\n",
      "Iteration: 3840000; w0 = 444.17735732323916; w1 = 2.620538882411012; mse = 6470.414201176657\n",
      "Iteration: 3850000; w0 = 444.17735732323916; w1 = 2.620538882411012; mse = 6470.414201176657\n",
      "Iteration: 3860000; w0 = 444.17735732323916; w1 = 2.620538882411012; mse = 6470.414201176657\n",
      "Iteration: 3870000; w0 = 444.17735732323916; w1 = 2.620538882411012; mse = 6470.414201176657\n",
      "Iteration: 3880000; w0 = 444.17735732323916; w1 = 2.620538882411012; mse = 6470.414201176657\n",
      "Iteration: 3890000; w0 = 444.17735732323916; w1 = 2.620538882411012; mse = 6470.414201176657\n",
      "Iteration: 3900000; w0 = 444.17735732323916; w1 = 2.620538882411012; mse = 6470.414201176657\n",
      "Iteration: 3910000; w0 = 444.17735732323916; w1 = 2.620538882411012; mse = 6470.414201176657\n",
      "Iteration: 3920000; w0 = 444.17735732323916; w1 = 2.620538882411012; mse = 6470.414201176657\n",
      "Iteration: 3930000; w0 = 444.17735732323916; w1 = 2.620538882411012; mse = 6470.414201176657\n",
      "Iteration: 3940000; w0 = 444.17735732323916; w1 = 2.620538882411012; mse = 6470.414201176657\n",
      "Iteration: 3950000; w0 = 444.17735732323916; w1 = 2.620538882411012; mse = 6470.414201176657\n",
      "Iteration: 3960000; w0 = 444.17735732323916; w1 = 2.620538882411012; mse = 6470.414201176657\n",
      "Iteration: 3970000; w0 = 444.17735732323916; w1 = 2.620538882411012; mse = 6470.414201176657\n",
      "Iteration: 3980000; w0 = 444.17735732323916; w1 = 2.620538882411012; mse = 6470.414201176657\n",
      "Iteration: 3990000; w0 = 444.17735732323916; w1 = 2.620538882411012; mse = 6470.414201176657\n",
      "Iteration: 4000000; w0 = 444.17735732323916; w1 = 2.620538882411012; mse = 6470.414201176657\n",
      "Iteration: 4010000; w0 = 444.17735732323916; w1 = 2.620538882411012; mse = 6470.414201176657\n",
      "Iteration: 4020000; w0 = 444.17735732323916; w1 = 2.620538882411012; mse = 6470.414201176657\n",
      "Iteration: 4030000; w0 = 444.17735732323916; w1 = 2.620538882411012; mse = 6470.414201176657\n",
      "Iteration: 4040000; w0 = 444.17735732323916; w1 = 2.620538882411012; mse = 6470.414201176657\n",
      "Iteration: 4050000; w0 = 444.17735732323916; w1 = 2.620538882411012; mse = 6470.414201176657\n",
      "Iteration: 4060000; w0 = 444.17735732323916; w1 = 2.620538882411012; mse = 6470.414201176657\n",
      "Iteration: 4070000; w0 = 444.17735732323916; w1 = 2.620538882411012; mse = 6470.414201176657\n",
      "Iteration: 4080000; w0 = 444.17735732323916; w1 = 2.620538882411012; mse = 6470.414201176657\n",
      "Iteration: 4090000; w0 = 444.17735732323916; w1 = 2.620538882411012; mse = 6470.414201176657\n",
      "Iteration: 4100000; w0 = 444.17735732323916; w1 = 2.620538882411012; mse = 6470.414201176657\n",
      "Iteration: 4110000; w0 = 444.17735732323916; w1 = 2.620538882411012; mse = 6470.414201176657\n",
      "Iteration: 4120000; w0 = 444.17735732323916; w1 = 2.620538882411012; mse = 6470.414201176657\n",
      "Iteration: 4130000; w0 = 444.17735732323916; w1 = 2.620538882411012; mse = 6470.414201176657\n",
      "Iteration: 4140000; w0 = 444.17735732323916; w1 = 2.620538882411012; mse = 6470.414201176657\n",
      "Iteration: 4150000; w0 = 444.17735732323916; w1 = 2.620538882411012; mse = 6470.414201176657\n",
      "Iteration: 4160000; w0 = 444.17735732323916; w1 = 2.620538882411012; mse = 6470.414201176657\n",
      "Iteration: 4170000; w0 = 444.17735732323916; w1 = 2.620538882411012; mse = 6470.414201176657\n",
      "Iteration: 4180000; w0 = 444.17735732323916; w1 = 2.620538882411012; mse = 6470.414201176657\n",
      "Iteration: 4190000; w0 = 444.17735732323916; w1 = 2.620538882411012; mse = 6470.414201176657\n",
      "Iteration: 4200000; w0 = 444.17735732323916; w1 = 2.620538882411012; mse = 6470.414201176657\n",
      "Iteration: 4210000; w0 = 444.17735732323916; w1 = 2.620538882411012; mse = 6470.414201176657\n",
      "Iteration: 4220000; w0 = 444.17735732323916; w1 = 2.620538882411012; mse = 6470.414201176657\n",
      "Iteration: 4230000; w0 = 444.17735732323916; w1 = 2.620538882411012; mse = 6470.414201176657\n",
      "Iteration: 4240000; w0 = 444.17735732323916; w1 = 2.620538882411012; mse = 6470.414201176657\n",
      "Iteration: 4250000; w0 = 444.17735732323916; w1 = 2.620538882411012; mse = 6470.414201176657\n",
      "Iteration: 4260000; w0 = 444.17735732323916; w1 = 2.620538882411012; mse = 6470.414201176657\n",
      "Iteration: 4270000; w0 = 444.17735732323916; w1 = 2.620538882411012; mse = 6470.414201176657\n",
      "Iteration: 4280000; w0 = 444.17735732323916; w1 = 2.620538882411012; mse = 6470.414201176657\n",
      "Iteration: 4290000; w0 = 444.17735732323916; w1 = 2.620538882411012; mse = 6470.414201176657\n",
      "Iteration: 4300000; w0 = 444.17735732323916; w1 = 2.620538882411012; mse = 6470.414201176657\n",
      "Iteration: 4310000; w0 = 444.17735732323916; w1 = 2.620538882411012; mse = 6470.414201176657\n",
      "Iteration: 4320000; w0 = 444.17735732323916; w1 = 2.620538882411012; mse = 6470.414201176657\n",
      "Iteration: 4330000; w0 = 444.17735732323916; w1 = 2.620538882411012; mse = 6470.414201176657\n",
      "Iteration: 4340000; w0 = 444.17735732323916; w1 = 2.620538882411012; mse = 6470.414201176657\n",
      "Iteration: 4350000; w0 = 444.17735732323916; w1 = 2.620538882411012; mse = 6470.414201176657\n",
      "Iteration: 4360000; w0 = 444.17735732323916; w1 = 2.620538882411012; mse = 6470.414201176657\n",
      "Iteration: 4370000; w0 = 444.17735732323916; w1 = 2.620538882411012; mse = 6470.414201176657\n",
      "Iteration: 4380000; w0 = 444.17735732323916; w1 = 2.620538882411012; mse = 6470.414201176657\n",
      "Iteration: 4390000; w0 = 444.17735732323916; w1 = 2.620538882411012; mse = 6470.414201176657\n",
      "Iteration: 4400000; w0 = 444.17735732323916; w1 = 2.620538882411012; mse = 6470.414201176657\n",
      "Iteration: 4410000; w0 = 444.17735732323916; w1 = 2.620538882411012; mse = 6470.414201176657\n",
      "Iteration: 4420000; w0 = 444.17735732323916; w1 = 2.620538882411012; mse = 6470.414201176657\n",
      "Iteration: 4430000; w0 = 444.17735732323916; w1 = 2.620538882411012; mse = 6470.414201176657\n",
      "Iteration: 4440000; w0 = 444.17735732323916; w1 = 2.620538882411012; mse = 6470.414201176657\n",
      "Iteration: 4450000; w0 = 444.17735732323916; w1 = 2.620538882411012; mse = 6470.414201176657\n",
      "Iteration: 4460000; w0 = 444.17735732323916; w1 = 2.620538882411012; mse = 6470.414201176657\n",
      "Iteration: 4470000; w0 = 444.17735732323916; w1 = 2.620538882411012; mse = 6470.414201176657\n",
      "Iteration: 4480000; w0 = 444.17735732323916; w1 = 2.620538882411012; mse = 6470.414201176657\n",
      "Iteration: 4490000; w0 = 444.17735732323916; w1 = 2.620538882411012; mse = 6470.414201176657\n"
     ]
    },
    {
     "name": "stdout",
     "output_type": "stream",
     "text": [
      "Iteration: 4500000; w0 = 444.17735732323916; w1 = 2.620538882411012; mse = 6470.414201176657\n",
      "Iteration: 4510000; w0 = 444.17735732323916; w1 = 2.620538882411012; mse = 6470.414201176657\n",
      "Iteration: 4520000; w0 = 444.17735732323916; w1 = 2.620538882411012; mse = 6470.414201176657\n",
      "Iteration: 4530000; w0 = 444.17735732323916; w1 = 2.620538882411012; mse = 6470.414201176657\n",
      "Iteration: 4540000; w0 = 444.17735732323916; w1 = 2.620538882411012; mse = 6470.414201176657\n",
      "Iteration: 4550000; w0 = 444.17735732323916; w1 = 2.620538882411012; mse = 6470.414201176657\n",
      "Iteration: 4560000; w0 = 444.17735732323916; w1 = 2.620538882411012; mse = 6470.414201176657\n",
      "Iteration: 4570000; w0 = 444.17735732323916; w1 = 2.620538882411012; mse = 6470.414201176657\n",
      "Iteration: 4580000; w0 = 444.17735732323916; w1 = 2.620538882411012; mse = 6470.414201176657\n",
      "Iteration: 4590000; w0 = 444.17735732323916; w1 = 2.620538882411012; mse = 6470.414201176657\n",
      "Iteration: 4600000; w0 = 444.17735732323916; w1 = 2.620538882411012; mse = 6470.414201176657\n",
      "Iteration: 4610000; w0 = 444.17735732323916; w1 = 2.620538882411012; mse = 6470.414201176657\n",
      "Iteration: 4620000; w0 = 444.17735732323916; w1 = 2.620538882411012; mse = 6470.414201176657\n",
      "Iteration: 4630000; w0 = 444.17735732323916; w1 = 2.620538882411012; mse = 6470.414201176657\n",
      "Iteration: 4640000; w0 = 444.17735732323916; w1 = 2.620538882411012; mse = 6470.414201176657\n",
      "Iteration: 4650000; w0 = 444.17735732323916; w1 = 2.620538882411012; mse = 6470.414201176657\n",
      "Iteration: 4660000; w0 = 444.17735732323916; w1 = 2.620538882411012; mse = 6470.414201176657\n",
      "Iteration: 4670000; w0 = 444.17735732323916; w1 = 2.620538882411012; mse = 6470.414201176657\n",
      "Iteration: 4680000; w0 = 444.17735732323916; w1 = 2.620538882411012; mse = 6470.414201176657\n",
      "Iteration: 4690000; w0 = 444.17735732323916; w1 = 2.620538882411012; mse = 6470.414201176657\n",
      "Iteration: 4700000; w0 = 444.17735732323916; w1 = 2.620538882411012; mse = 6470.414201176657\n",
      "Iteration: 4710000; w0 = 444.17735732323916; w1 = 2.620538882411012; mse = 6470.414201176657\n",
      "Iteration: 4720000; w0 = 444.17735732323916; w1 = 2.620538882411012; mse = 6470.414201176657\n",
      "Iteration: 4730000; w0 = 444.17735732323916; w1 = 2.620538882411012; mse = 6470.414201176657\n",
      "Iteration: 4740000; w0 = 444.17735732323916; w1 = 2.620538882411012; mse = 6470.414201176657\n",
      "Iteration: 4750000; w0 = 444.17735732323916; w1 = 2.620538882411012; mse = 6470.414201176657\n",
      "Iteration: 4760000; w0 = 444.17735732323916; w1 = 2.620538882411012; mse = 6470.414201176657\n",
      "Iteration: 4770000; w0 = 444.17735732323916; w1 = 2.620538882411012; mse = 6470.414201176657\n",
      "Iteration: 4780000; w0 = 444.17735732323916; w1 = 2.620538882411012; mse = 6470.414201176657\n",
      "Iteration: 4790000; w0 = 444.17735732323916; w1 = 2.620538882411012; mse = 6470.414201176657\n",
      "Iteration: 4800000; w0 = 444.17735732323916; w1 = 2.620538882411012; mse = 6470.414201176657\n",
      "Iteration: 4810000; w0 = 444.17735732323916; w1 = 2.620538882411012; mse = 6470.414201176657\n",
      "Iteration: 4820000; w0 = 444.17735732323916; w1 = 2.620538882411012; mse = 6470.414201176657\n",
      "Iteration: 4830000; w0 = 444.17735732323916; w1 = 2.620538882411012; mse = 6470.414201176657\n",
      "Iteration: 4840000; w0 = 444.17735732323916; w1 = 2.620538882411012; mse = 6470.414201176657\n",
      "Iteration: 4850000; w0 = 444.17735732323916; w1 = 2.620538882411012; mse = 6470.414201176657\n",
      "Iteration: 4860000; w0 = 444.17735732323916; w1 = 2.620538882411012; mse = 6470.414201176657\n",
      "Iteration: 4870000; w0 = 444.17735732323916; w1 = 2.620538882411012; mse = 6470.414201176657\n",
      "Iteration: 4880000; w0 = 444.17735732323916; w1 = 2.620538882411012; mse = 6470.414201176657\n",
      "Iteration: 4890000; w0 = 444.17735732323916; w1 = 2.620538882411012; mse = 6470.414201176657\n",
      "Iteration: 4900000; w0 = 444.17735732323916; w1 = 2.620538882411012; mse = 6470.414201176657\n",
      "Iteration: 4910000; w0 = 444.17735732323916; w1 = 2.620538882411012; mse = 6470.414201176657\n",
      "Iteration: 4920000; w0 = 444.17735732323916; w1 = 2.620538882411012; mse = 6470.414201176657\n",
      "Iteration: 4930000; w0 = 444.17735732323916; w1 = 2.620538882411012; mse = 6470.414201176657\n",
      "Iteration: 4940000; w0 = 444.17735732323916; w1 = 2.620538882411012; mse = 6470.414201176657\n",
      "Iteration: 4950000; w0 = 444.17735732323916; w1 = 2.620538882411012; mse = 6470.414201176657\n",
      "Iteration: 4960000; w0 = 444.17735732323916; w1 = 2.620538882411012; mse = 6470.414201176657\n",
      "Iteration: 4970000; w0 = 444.17735732323916; w1 = 2.620538882411012; mse = 6470.414201176657\n",
      "Iteration: 4980000; w0 = 444.17735732323916; w1 = 2.620538882411012; mse = 6470.414201176657\n",
      "Iteration: 4990000; w0 = 444.17735732323916; w1 = 2.620538882411012; mse = 6470.414201176657\n",
      "Iteration: 5000000; w0 = 444.17735732323916; w1 = 2.620538882411012; mse = 6470.414201176657\n",
      "Iteration: 5010000; w0 = 444.17735732323916; w1 = 2.620538882411012; mse = 6470.414201176657\n",
      "Iteration: 5020000; w0 = 444.17735732323916; w1 = 2.620538882411012; mse = 6470.414201176657\n",
      "Iteration: 5030000; w0 = 444.17735732323916; w1 = 2.620538882411012; mse = 6470.414201176657\n",
      "Iteration: 5040000; w0 = 444.17735732323916; w1 = 2.620538882411012; mse = 6470.414201176657\n",
      "Iteration: 5050000; w0 = 444.17735732323916; w1 = 2.620538882411012; mse = 6470.414201176657\n",
      "Iteration: 5060000; w0 = 444.17735732323916; w1 = 2.620538882411012; mse = 6470.414201176657\n",
      "Iteration: 5070000; w0 = 444.17735732323916; w1 = 2.620538882411012; mse = 6470.414201176657\n",
      "Iteration: 5080000; w0 = 444.17735732323916; w1 = 2.620538882411012; mse = 6470.414201176657\n",
      "Iteration: 5090000; w0 = 444.17735732323916; w1 = 2.620538882411012; mse = 6470.414201176657\n",
      "Iteration: 5100000; w0 = 444.17735732323916; w1 = 2.620538882411012; mse = 6470.414201176657\n",
      "Iteration: 5110000; w0 = 444.17735732323916; w1 = 2.620538882411012; mse = 6470.414201176657\n",
      "Iteration: 5120000; w0 = 444.17735732323916; w1 = 2.620538882411012; mse = 6470.414201176657\n",
      "Iteration: 5130000; w0 = 444.17735732323916; w1 = 2.620538882411012; mse = 6470.414201176657\n",
      "Iteration: 5140000; w0 = 444.17735732323916; w1 = 2.620538882411012; mse = 6470.414201176657\n",
      "Iteration: 5150000; w0 = 444.17735732323916; w1 = 2.620538882411012; mse = 6470.414201176657\n",
      "Iteration: 5160000; w0 = 444.17735732323916; w1 = 2.620538882411012; mse = 6470.414201176657\n",
      "Iteration: 5170000; w0 = 444.17735732323916; w1 = 2.620538882411012; mse = 6470.414201176657\n",
      "Iteration: 5180000; w0 = 444.17735732323916; w1 = 2.620538882411012; mse = 6470.414201176657\n",
      "Iteration: 5190000; w0 = 444.17735732323916; w1 = 2.620538882411012; mse = 6470.414201176657\n",
      "Iteration: 5200000; w0 = 444.17735732323916; w1 = 2.620538882411012; mse = 6470.414201176657\n",
      "Iteration: 5210000; w0 = 444.17735732323916; w1 = 2.620538882411012; mse = 6470.414201176657\n",
      "Iteration: 5220000; w0 = 444.17735732323916; w1 = 2.620538882411012; mse = 6470.414201176657\n",
      "Iteration: 5230000; w0 = 444.17735732323916; w1 = 2.620538882411012; mse = 6470.414201176657\n",
      "Iteration: 5240000; w0 = 444.17735732323916; w1 = 2.620538882411012; mse = 6470.414201176657\n",
      "Iteration: 5250000; w0 = 444.17735732323916; w1 = 2.620538882411012; mse = 6470.414201176657\n",
      "Iteration: 5260000; w0 = 444.17735732323916; w1 = 2.620538882411012; mse = 6470.414201176657\n",
      "Iteration: 5270000; w0 = 444.17735732323916; w1 = 2.620538882411012; mse = 6470.414201176657\n",
      "Iteration: 5280000; w0 = 444.17735732323916; w1 = 2.620538882411012; mse = 6470.414201176657\n",
      "Iteration: 5290000; w0 = 444.17735732323916; w1 = 2.620538882411012; mse = 6470.414201176657\n",
      "Iteration: 5300000; w0 = 444.17735732323916; w1 = 2.620538882411012; mse = 6470.414201176657\n",
      "Iteration: 5310000; w0 = 444.17735732323916; w1 = 2.620538882411012; mse = 6470.414201176657\n",
      "Iteration: 5320000; w0 = 444.17735732323916; w1 = 2.620538882411012; mse = 6470.414201176657\n",
      "Iteration: 5330000; w0 = 444.17735732323916; w1 = 2.620538882411012; mse = 6470.414201176657\n",
      "Iteration: 5340000; w0 = 444.17735732323916; w1 = 2.620538882411012; mse = 6470.414201176657\n",
      "Iteration: 5350000; w0 = 444.17735732323916; w1 = 2.620538882411012; mse = 6470.414201176657\n",
      "Iteration: 5360000; w0 = 444.17735732323916; w1 = 2.620538882411012; mse = 6470.414201176657\n",
      "Iteration: 5370000; w0 = 444.17735732323916; w1 = 2.620538882411012; mse = 6470.414201176657\n",
      "Iteration: 5380000; w0 = 444.17735732323916; w1 = 2.620538882411012; mse = 6470.414201176657\n",
      "Iteration: 5390000; w0 = 444.17735732323916; w1 = 2.620538882411012; mse = 6470.414201176657\n"
     ]
    },
    {
     "name": "stdout",
     "output_type": "stream",
     "text": [
      "Iteration: 5400000; w0 = 444.17735732323916; w1 = 2.620538882411012; mse = 6470.414201176657\n",
      "Iteration: 5410000; w0 = 444.17735732323916; w1 = 2.620538882411012; mse = 6470.414201176657\n",
      "Iteration: 5420000; w0 = 444.17735732323916; w1 = 2.620538882411012; mse = 6470.414201176657\n",
      "Iteration: 5430000; w0 = 444.17735732323916; w1 = 2.620538882411012; mse = 6470.414201176657\n",
      "Iteration: 5440000; w0 = 444.17735732323916; w1 = 2.620538882411012; mse = 6470.414201176657\n",
      "Iteration: 5450000; w0 = 444.17735732323916; w1 = 2.620538882411012; mse = 6470.414201176657\n",
      "Iteration: 5460000; w0 = 444.17735732323916; w1 = 2.620538882411012; mse = 6470.414201176657\n",
      "Iteration: 5470000; w0 = 444.17735732323916; w1 = 2.620538882411012; mse = 6470.414201176657\n",
      "Iteration: 5480000; w0 = 444.17735732323916; w1 = 2.620538882411012; mse = 6470.414201176657\n",
      "Iteration: 5490000; w0 = 444.17735732323916; w1 = 2.620538882411012; mse = 6470.414201176657\n",
      "Iteration: 5500000; w0 = 444.17735732323916; w1 = 2.620538882411012; mse = 6470.414201176657\n",
      "Iteration: 5510000; w0 = 444.17735732323916; w1 = 2.620538882411012; mse = 6470.414201176657\n",
      "Iteration: 5520000; w0 = 444.17735732323916; w1 = 2.620538882411012; mse = 6470.414201176657\n",
      "Iteration: 5530000; w0 = 444.17735732323916; w1 = 2.620538882411012; mse = 6470.414201176657\n",
      "Iteration: 5540000; w0 = 444.17735732323916; w1 = 2.620538882411012; mse = 6470.414201176657\n",
      "Iteration: 5550000; w0 = 444.17735732323916; w1 = 2.620538882411012; mse = 6470.414201176657\n",
      "Iteration: 5560000; w0 = 444.17735732323916; w1 = 2.620538882411012; mse = 6470.414201176657\n",
      "Iteration: 5570000; w0 = 444.17735732323916; w1 = 2.620538882411012; mse = 6470.414201176657\n",
      "Iteration: 5580000; w0 = 444.17735732323916; w1 = 2.620538882411012; mse = 6470.414201176657\n",
      "Iteration: 5590000; w0 = 444.17735732323916; w1 = 2.620538882411012; mse = 6470.414201176657\n",
      "Iteration: 5600000; w0 = 444.17735732323916; w1 = 2.620538882411012; mse = 6470.414201176657\n",
      "Iteration: 5610000; w0 = 444.17735732323916; w1 = 2.620538882411012; mse = 6470.414201176657\n",
      "Iteration: 5620000; w0 = 444.17735732323916; w1 = 2.620538882411012; mse = 6470.414201176657\n",
      "Iteration: 5630000; w0 = 444.17735732323916; w1 = 2.620538882411012; mse = 6470.414201176657\n",
      "Iteration: 5640000; w0 = 444.17735732323916; w1 = 2.620538882411012; mse = 6470.414201176657\n",
      "Iteration: 5650000; w0 = 444.17735732323916; w1 = 2.620538882411012; mse = 6470.414201176657\n",
      "Iteration: 5660000; w0 = 444.17735732323916; w1 = 2.620538882411012; mse = 6470.414201176657\n",
      "Iteration: 5670000; w0 = 444.17735732323916; w1 = 2.620538882411012; mse = 6470.414201176657\n",
      "Iteration: 5680000; w0 = 444.17735732323916; w1 = 2.620538882411012; mse = 6470.414201176657\n",
      "Iteration: 5690000; w0 = 444.17735732323916; w1 = 2.620538882411012; mse = 6470.414201176657\n",
      "Iteration: 5700000; w0 = 444.17735732323916; w1 = 2.620538882411012; mse = 6470.414201176657\n",
      "Iteration: 5710000; w0 = 444.17735732323916; w1 = 2.620538882411012; mse = 6470.414201176657\n",
      "Iteration: 5720000; w0 = 444.17735732323916; w1 = 2.620538882411012; mse = 6470.414201176657\n",
      "Iteration: 5730000; w0 = 444.17735732323916; w1 = 2.620538882411012; mse = 6470.414201176657\n",
      "Iteration: 5740000; w0 = 444.17735732323916; w1 = 2.620538882411012; mse = 6470.414201176657\n",
      "Iteration: 5750000; w0 = 444.17735732323916; w1 = 2.620538882411012; mse = 6470.414201176657\n",
      "Iteration: 5760000; w0 = 444.17735732323916; w1 = 2.620538882411012; mse = 6470.414201176657\n",
      "Iteration: 5770000; w0 = 444.17735732323916; w1 = 2.620538882411012; mse = 6470.414201176657\n",
      "Iteration: 5780000; w0 = 444.17735732323916; w1 = 2.620538882411012; mse = 6470.414201176657\n",
      "Iteration: 5790000; w0 = 444.17735732323916; w1 = 2.620538882411012; mse = 6470.414201176657\n",
      "Iteration: 5800000; w0 = 444.17735732323916; w1 = 2.620538882411012; mse = 6470.414201176657\n",
      "Iteration: 5810000; w0 = 444.17735732323916; w1 = 2.620538882411012; mse = 6470.414201176657\n",
      "Iteration: 5820000; w0 = 444.17735732323916; w1 = 2.620538882411012; mse = 6470.414201176657\n",
      "Iteration: 5830000; w0 = 444.17735732323916; w1 = 2.620538882411012; mse = 6470.414201176657\n",
      "Iteration: 5840000; w0 = 444.17735732323916; w1 = 2.620538882411012; mse = 6470.414201176657\n",
      "Iteration: 5850000; w0 = 444.17735732323916; w1 = 2.620538882411012; mse = 6470.414201176657\n",
      "Iteration: 5860000; w0 = 444.17735732323916; w1 = 2.620538882411012; mse = 6470.414201176657\n",
      "Iteration: 5870000; w0 = 444.17735732323916; w1 = 2.620538882411012; mse = 6470.414201176657\n",
      "Iteration: 5880000; w0 = 444.17735732323916; w1 = 2.620538882411012; mse = 6470.414201176657\n",
      "Iteration: 5890000; w0 = 444.17735732323916; w1 = 2.620538882411012; mse = 6470.414201176657\n",
      "Iteration: 5900000; w0 = 444.17735732323916; w1 = 2.620538882411012; mse = 6470.414201176657\n",
      "Iteration: 5910000; w0 = 444.17735732323916; w1 = 2.620538882411012; mse = 6470.414201176657\n",
      "Iteration: 5920000; w0 = 444.17735732323916; w1 = 2.620538882411012; mse = 6470.414201176657\n",
      "Iteration: 5930000; w0 = 444.17735732323916; w1 = 2.620538882411012; mse = 6470.414201176657\n",
      "Iteration: 5940000; w0 = 444.17735732323916; w1 = 2.620538882411012; mse = 6470.414201176657\n",
      "Iteration: 5950000; w0 = 444.17735732323916; w1 = 2.620538882411012; mse = 6470.414201176657\n",
      "Iteration: 5960000; w0 = 444.17735732323916; w1 = 2.620538882411012; mse = 6470.414201176657\n",
      "Iteration: 5970000; w0 = 444.17735732323916; w1 = 2.620538882411012; mse = 6470.414201176657\n",
      "Iteration: 5980000; w0 = 444.17735732323916; w1 = 2.620538882411012; mse = 6470.414201176657\n",
      "Iteration: 5990000; w0 = 444.17735732323916; w1 = 2.620538882411012; mse = 6470.414201176657\n",
      "Iteration: 6000000; w0 = 444.17735732323916; w1 = 2.620538882411012; mse = 6470.414201176657\n",
      "Iteration: 6010000; w0 = 444.17735732323916; w1 = 2.620538882411012; mse = 6470.414201176657\n",
      "Iteration: 6020000; w0 = 444.17735732323916; w1 = 2.620538882411012; mse = 6470.414201176657\n",
      "Iteration: 6030000; w0 = 444.17735732323916; w1 = 2.620538882411012; mse = 6470.414201176657\n",
      "Iteration: 6040000; w0 = 444.17735732323916; w1 = 2.620538882411012; mse = 6470.414201176657\n",
      "Iteration: 6050000; w0 = 444.17735732323916; w1 = 2.620538882411012; mse = 6470.414201176657\n",
      "Iteration: 6060000; w0 = 444.17735732323916; w1 = 2.620538882411012; mse = 6470.414201176657\n",
      "Iteration: 6070000; w0 = 444.17735732323916; w1 = 2.620538882411012; mse = 6470.414201176657\n",
      "Iteration: 6080000; w0 = 444.17735732323916; w1 = 2.620538882411012; mse = 6470.414201176657\n",
      "Iteration: 6090000; w0 = 444.17735732323916; w1 = 2.620538882411012; mse = 6470.414201176657\n",
      "Iteration: 6100000; w0 = 444.17735732323916; w1 = 2.620538882411012; mse = 6470.414201176657\n",
      "Iteration: 6110000; w0 = 444.17735732323916; w1 = 2.620538882411012; mse = 6470.414201176657\n",
      "Iteration: 6120000; w0 = 444.17735732323916; w1 = 2.620538882411012; mse = 6470.414201176657\n",
      "Iteration: 6130000; w0 = 444.17735732323916; w1 = 2.620538882411012; mse = 6470.414201176657\n",
      "Iteration: 6140000; w0 = 444.17735732323916; w1 = 2.620538882411012; mse = 6470.414201176657\n",
      "Iteration: 6150000; w0 = 444.17735732323916; w1 = 2.620538882411012; mse = 6470.414201176657\n",
      "Iteration: 6160000; w0 = 444.17735732323916; w1 = 2.620538882411012; mse = 6470.414201176657\n",
      "Iteration: 6170000; w0 = 444.17735732323916; w1 = 2.620538882411012; mse = 6470.414201176657\n",
      "Iteration: 6180000; w0 = 444.17735732323916; w1 = 2.620538882411012; mse = 6470.414201176657\n",
      "Iteration: 6190000; w0 = 444.17735732323916; w1 = 2.620538882411012; mse = 6470.414201176657\n",
      "Iteration: 6200000; w0 = 444.17735732323916; w1 = 2.620538882411012; mse = 6470.414201176657\n",
      "Iteration: 6210000; w0 = 444.17735732323916; w1 = 2.620538882411012; mse = 6470.414201176657\n",
      "Iteration: 6220000; w0 = 444.17735732323916; w1 = 2.620538882411012; mse = 6470.414201176657\n",
      "Iteration: 6230000; w0 = 444.17735732323916; w1 = 2.620538882411012; mse = 6470.414201176657\n",
      "Iteration: 6240000; w0 = 444.17735732323916; w1 = 2.620538882411012; mse = 6470.414201176657\n",
      "Iteration: 6250000; w0 = 444.17735732323916; w1 = 2.620538882411012; mse = 6470.414201176657\n",
      "Iteration: 6260000; w0 = 444.17735732323916; w1 = 2.620538882411012; mse = 6470.414201176657\n",
      "Iteration: 6270000; w0 = 444.17735732323916; w1 = 2.620538882411012; mse = 6470.414201176657\n",
      "Iteration: 6280000; w0 = 444.17735732323916; w1 = 2.620538882411012; mse = 6470.414201176657\n",
      "Iteration: 6290000; w0 = 444.17735732323916; w1 = 2.620538882411012; mse = 6470.414201176657\n"
     ]
    },
    {
     "name": "stdout",
     "output_type": "stream",
     "text": [
      "Iteration: 6300000; w0 = 444.17735732323916; w1 = 2.620538882411012; mse = 6470.414201176657\n",
      "Iteration: 6310000; w0 = 444.17735732323916; w1 = 2.620538882411012; mse = 6470.414201176657\n",
      "Iteration: 6320000; w0 = 444.17735732323916; w1 = 2.620538882411012; mse = 6470.414201176657\n",
      "Iteration: 6330000; w0 = 444.17735732323916; w1 = 2.620538882411012; mse = 6470.414201176657\n",
      "Iteration: 6340000; w0 = 444.17735732323916; w1 = 2.620538882411012; mse = 6470.414201176657\n",
      "Iteration: 6350000; w0 = 444.17735732323916; w1 = 2.620538882411012; mse = 6470.414201176657\n",
      "Iteration: 6360000; w0 = 444.17735732323916; w1 = 2.620538882411012; mse = 6470.414201176657\n",
      "Iteration: 6370000; w0 = 444.17735732323916; w1 = 2.620538882411012; mse = 6470.414201176657\n",
      "Iteration: 6380000; w0 = 444.17735732323916; w1 = 2.620538882411012; mse = 6470.414201176657\n",
      "Iteration: 6390000; w0 = 444.17735732323916; w1 = 2.620538882411012; mse = 6470.414201176657\n",
      "Iteration: 6400000; w0 = 444.17735732323916; w1 = 2.620538882411012; mse = 6470.414201176657\n",
      "Iteration: 6410000; w0 = 444.17735732323916; w1 = 2.620538882411012; mse = 6470.414201176657\n",
      "Iteration: 6420000; w0 = 444.17735732323916; w1 = 2.620538882411012; mse = 6470.414201176657\n",
      "Iteration: 6430000; w0 = 444.17735732323916; w1 = 2.620538882411012; mse = 6470.414201176657\n",
      "Iteration: 6440000; w0 = 444.17735732323916; w1 = 2.620538882411012; mse = 6470.414201176657\n",
      "Iteration: 6450000; w0 = 444.17735732323916; w1 = 2.620538882411012; mse = 6470.414201176657\n",
      "Iteration: 6460000; w0 = 444.17735732323916; w1 = 2.620538882411012; mse = 6470.414201176657\n",
      "Iteration: 6470000; w0 = 444.17735732323916; w1 = 2.620538882411012; mse = 6470.414201176657\n",
      "Iteration: 6480000; w0 = 444.17735732323916; w1 = 2.620538882411012; mse = 6470.414201176657\n",
      "Iteration: 6490000; w0 = 444.17735732323916; w1 = 2.620538882411012; mse = 6470.414201176657\n",
      "Iteration: 6500000; w0 = 444.17735732323916; w1 = 2.620538882411012; mse = 6470.414201176657\n",
      "Iteration: 6510000; w0 = 444.17735732323916; w1 = 2.620538882411012; mse = 6470.414201176657\n",
      "Iteration: 6520000; w0 = 444.17735732323916; w1 = 2.620538882411012; mse = 6470.414201176657\n",
      "Iteration: 6530000; w0 = 444.17735732323916; w1 = 2.620538882411012; mse = 6470.414201176657\n",
      "Iteration: 6540000; w0 = 444.17735732323916; w1 = 2.620538882411012; mse = 6470.414201176657\n",
      "Iteration: 6550000; w0 = 444.17735732323916; w1 = 2.620538882411012; mse = 6470.414201176657\n",
      "Iteration: 6560000; w0 = 444.17735732323916; w1 = 2.620538882411012; mse = 6470.414201176657\n",
      "Iteration: 6570000; w0 = 444.17735732323916; w1 = 2.620538882411012; mse = 6470.414201176657\n",
      "Iteration: 6580000; w0 = 444.17735732323916; w1 = 2.620538882411012; mse = 6470.414201176657\n",
      "Iteration: 6590000; w0 = 444.17735732323916; w1 = 2.620538882411012; mse = 6470.414201176657\n",
      "Iteration: 6600000; w0 = 444.17735732323916; w1 = 2.620538882411012; mse = 6470.414201176657\n",
      "Iteration: 6610000; w0 = 444.17735732323916; w1 = 2.620538882411012; mse = 6470.414201176657\n",
      "Iteration: 6620000; w0 = 444.17735732323916; w1 = 2.620538882411012; mse = 6470.414201176657\n",
      "Iteration: 6630000; w0 = 444.17735732323916; w1 = 2.620538882411012; mse = 6470.414201176657\n",
      "Iteration: 6640000; w0 = 444.17735732323916; w1 = 2.620538882411012; mse = 6470.414201176657\n",
      "Iteration: 6650000; w0 = 444.17735732323916; w1 = 2.620538882411012; mse = 6470.414201176657\n",
      "Iteration: 6660000; w0 = 444.17735732323916; w1 = 2.620538882411012; mse = 6470.414201176657\n",
      "Iteration: 6670000; w0 = 444.17735732323916; w1 = 2.620538882411012; mse = 6470.414201176657\n",
      "Iteration: 6680000; w0 = 444.17735732323916; w1 = 2.620538882411012; mse = 6470.414201176657\n",
      "Iteration: 6690000; w0 = 444.17735732323916; w1 = 2.620538882411012; mse = 6470.414201176657\n",
      "Iteration: 6700000; w0 = 444.17735732323916; w1 = 2.620538882411012; mse = 6470.414201176657\n",
      "Iteration: 6710000; w0 = 444.17735732323916; w1 = 2.620538882411012; mse = 6470.414201176657\n",
      "Iteration: 6720000; w0 = 444.17735732323916; w1 = 2.620538882411012; mse = 6470.414201176657\n",
      "Iteration: 6730000; w0 = 444.17735732323916; w1 = 2.620538882411012; mse = 6470.414201176657\n",
      "Iteration: 6740000; w0 = 444.17735732323916; w1 = 2.620538882411012; mse = 6470.414201176657\n",
      "Iteration: 6750000; w0 = 444.17735732323916; w1 = 2.620538882411012; mse = 6470.414201176657\n",
      "Iteration: 6760000; w0 = 444.17735732323916; w1 = 2.620538882411012; mse = 6470.414201176657\n",
      "Iteration: 6770000; w0 = 444.17735732323916; w1 = 2.620538882411012; mse = 6470.414201176657\n",
      "Iteration: 6780000; w0 = 444.17735732323916; w1 = 2.620538882411012; mse = 6470.414201176657\n",
      "Iteration: 6790000; w0 = 444.17735732323916; w1 = 2.620538882411012; mse = 6470.414201176657\n",
      "Iteration: 6800000; w0 = 444.17735732323916; w1 = 2.620538882411012; mse = 6470.414201176657\n",
      "Iteration: 6810000; w0 = 444.17735732323916; w1 = 2.620538882411012; mse = 6470.414201176657\n",
      "Iteration: 6820000; w0 = 444.17735732323916; w1 = 2.620538882411012; mse = 6470.414201176657\n",
      "Iteration: 6830000; w0 = 444.17735732323916; w1 = 2.620538882411012; mse = 6470.414201176657\n",
      "Iteration: 6840000; w0 = 444.17735732323916; w1 = 2.620538882411012; mse = 6470.414201176657\n",
      "Iteration: 6850000; w0 = 444.17735732323916; w1 = 2.620538882411012; mse = 6470.414201176657\n",
      "Iteration: 6860000; w0 = 444.17735732323916; w1 = 2.620538882411012; mse = 6470.414201176657\n",
      "Iteration: 6870000; w0 = 444.17735732323916; w1 = 2.620538882411012; mse = 6470.414201176657\n",
      "Iteration: 6880000; w0 = 444.17735732323916; w1 = 2.620538882411012; mse = 6470.414201176657\n",
      "Iteration: 6890000; w0 = 444.17735732323916; w1 = 2.620538882411012; mse = 6470.414201176657\n",
      "Iteration: 6900000; w0 = 444.17735732323916; w1 = 2.620538882411012; mse = 6470.414201176657\n",
      "Iteration: 6910000; w0 = 444.17735732323916; w1 = 2.620538882411012; mse = 6470.414201176657\n",
      "Iteration: 6920000; w0 = 444.17735732323916; w1 = 2.620538882411012; mse = 6470.414201176657\n",
      "Iteration: 6930000; w0 = 444.17735732323916; w1 = 2.620538882411012; mse = 6470.414201176657\n",
      "Iteration: 6940000; w0 = 444.17735732323916; w1 = 2.620538882411012; mse = 6470.414201176657\n",
      "Iteration: 6950000; w0 = 444.17735732323916; w1 = 2.620538882411012; mse = 6470.414201176657\n",
      "Iteration: 6960000; w0 = 444.17735732323916; w1 = 2.620538882411012; mse = 6470.414201176657\n",
      "Iteration: 6970000; w0 = 444.17735732323916; w1 = 2.620538882411012; mse = 6470.414201176657\n",
      "Iteration: 6980000; w0 = 444.17735732323916; w1 = 2.620538882411012; mse = 6470.414201176657\n",
      "Iteration: 6990000; w0 = 444.17735732323916; w1 = 2.620538882411012; mse = 6470.414201176657\n"
     ]
    }
   ],
   "source": [
    "alpha = 5e-5\n",
    "w0 = 0.1\n",
    "w1 = 0.1\n",
    "for i in range(7000000):\n",
    "    w0 -= alpha * ((2/len(x)) * np.sum(((w0 + w1*x) - y) * 1))\n",
    "    w1 -= alpha * ((2/len(x)) * np.sum(((w0 + w1*x) - y) * x))\n",
    "    if i % 10000 == 0:\n",
    "        print(\"Iteration: {i}; w0 = {w0}; w1 = {w1}; mse = {mse}\".format(i=i, w0=w0, w1=w1, mse=mse_3(w0, w1)))"
   ]
  },
  {
   "cell_type": "code",
   "execution_count": null,
   "metadata": {},
   "outputs": [],
   "source": []
  },
  {
   "cell_type": "code",
   "execution_count": null,
   "metadata": {},
   "outputs": [],
   "source": []
  },
  {
   "cell_type": "code",
   "execution_count": null,
   "metadata": {},
   "outputs": [],
   "source": []
  },
  {
   "cell_type": "code",
   "execution_count": null,
   "metadata": {},
   "outputs": [],
   "source": []
  },
  {
   "cell_type": "markdown",
   "metadata": {},
   "source": [
    "**3) В каких случаях для вычисления доверительных интервалов и проверки статистических гипотез используется таблица значений функции Лапласа, а в каких - таблица критических точек распределения Стьюдента?**"
   ]
  },
  {
   "cell_type": "markdown",
   "metadata": {},
   "source": [
    "Таблица значений функции Лапласа используется тогда, когда известна дисперсия генеральной выборки и/или количество наблюдений велико (более тридцати, например).  \n",
    "Таблица значений Стьюдента используется когда дисперсия неизвестна и количество наблюдений мало, т.к. с увеличением объема выборки, распределение Стьюдента стремится к нормальному."
   ]
  },
  {
   "cell_type": "code",
   "execution_count": null,
   "metadata": {},
   "outputs": [],
   "source": []
  },
  {
   "cell_type": "markdown",
   "metadata": {},
   "source": [
    "***4. Произвести вычисления как в пункте 2, но с вычислением intercept.  \n",
    "Учесть, что изменение коэффициентов должно производиться на каждом шаге одновременно (то есть изменение одного коэффициента не должно влиять на изменение другого во время одной итерации).**"
   ]
  },
  {
   "cell_type": "code",
   "execution_count": null,
   "metadata": {},
   "outputs": [],
   "source": []
  },
  {
   "cell_type": "code",
   "execution_count": null,
   "metadata": {},
   "outputs": [],
   "source": []
  }
 ],
 "metadata": {
  "kernelspec": {
   "display_name": "Python 3",
   "language": "python",
   "name": "python3"
  },
  "language_info": {
   "codemirror_mode": {
    "name": "ipython",
    "version": 3
   },
   "file_extension": ".py",
   "mimetype": "text/x-python",
   "name": "python",
   "nbconvert_exporter": "python",
   "pygments_lexer": "ipython3",
   "version": "3.7.1"
  }
 },
 "nbformat": 4,
 "nbformat_minor": 2
}
