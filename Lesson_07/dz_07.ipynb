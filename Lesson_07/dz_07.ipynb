{
 "cells": [
  {
   "cell_type": "code",
   "execution_count": 1,
   "metadata": {},
   "outputs": [],
   "source": [
    "import numpy as np\n",
    "import pandas as pd\n",
    "import matplotlib.pyplot as plt\n",
    "import seaborn as sns\n",
    "%matplotlib inline"
   ]
  },
  {
   "cell_type": "markdown",
   "metadata": {},
   "source": [
    "y = a + b*x  \n",
    "a и b - коэффициенты линейной регрессии  \n",
    "a - intercept  \n",
    "b - slope (наклон прямой)"
   ]
  },
  {
   "cell_type": "code",
   "execution_count": 2,
   "metadata": {},
   "outputs": [],
   "source": [
    "def mse_(y, y_pred):\n",
    "    return np.sum((y_pred-y)**2)/len(y)"
   ]
  },
  {
   "cell_type": "markdown",
   "metadata": {},
   "source": [
    "**1) Даны значения величины заработной платы заемщиков банка (zp) и значения их поведенческого кредитного скоринга (ks):  \n",
    "zp = [35, 45, 190, 200, 40, 70, 54, 150, 120, 110],  \n",
    "ks = [401, 574, 874, 919, 459, 739, 653, 902, 746, 832].  \n",
    "Используя математические операции, посчитать коэффициенты линейной регрессии, приняв за X заработную плату (то есть, zp - признак), а за y - значения скорингового балла (то есть, ks - целевая переменная).  \n",
    "Произвести расчет как с использованием intercept, так и без.**"
   ]
  },
  {
   "cell_type": "code",
   "execution_count": 3,
   "metadata": {},
   "outputs": [],
   "source": [
    "x = zp = np.array([35, 45, 190, 200, 40, 70, 54, 150, 120, 110])\n",
    "y = ks = np.array([401, 574, 874, 919, 459, 739, 653, 902, 746, 832])"
   ]
  },
  {
   "cell_type": "markdown",
   "metadata": {},
   "source": [
    "### Способ 1:"
   ]
  },
  {
   "cell_type": "markdown",
   "metadata": {},
   "source": [
    "Коэффициенты уравнения линейной регрессии можно найти следующим образом:  \n",
    "$$b = \\frac{\\overline{yx} - \\overline{y} \\cdot {\\overline{x}}}{\\overline{x^2} - (\\overline{x})^2};$$"
   ]
  },
  {
   "cell_type": "markdown",
   "metadata": {},
   "source": [
    "$$a = \\overline{y} - b \\cdot {\\overline{x}}.$$"
   ]
  },
  {
   "cell_type": "code",
   "execution_count": 4,
   "metadata": {},
   "outputs": [
    {
     "data": {
      "text/plain": [
       "2.620538882402765"
      ]
     },
     "execution_count": 4,
     "metadata": {},
     "output_type": "execute_result"
    }
   ],
   "source": [
    "b = ((x*y).mean()-x.mean()*y.mean()) / ((x**2).mean()-x.mean()**2)\n",
    "b"
   ]
  },
  {
   "cell_type": "code",
   "execution_count": 5,
   "metadata": {},
   "outputs": [
    {
     "data": {
      "text/plain": [
       "444.1773573243596"
      ]
     },
     "execution_count": 5,
     "metadata": {},
     "output_type": "execute_result"
    }
   ],
   "source": [
    "a = y.mean() - b*x.mean()\n",
    "a"
   ]
  },
  {
   "cell_type": "code",
   "execution_count": 6,
   "metadata": {},
   "outputs": [
    {
     "name": "stdout",
     "output_type": "stream",
     "text": [
      "a: 444.1773573243596\n",
      "b: 2.620538882402765\n"
     ]
    }
   ],
   "source": [
    "print(\"a:\", a)\n",
    "print(\"b:\", b)"
   ]
  },
  {
   "cell_type": "code",
   "execution_count": 7,
   "metadata": {},
   "outputs": [
    {
     "data": {
      "text/plain": [
       "array([535.89621821, 562.10160703, 942.07974498, 968.2851338 ,\n",
       "       548.99891262, 627.61507909, 585.68645697, 837.25818968,\n",
       "       758.64202321, 732.43663439])"
      ]
     },
     "execution_count": 7,
     "metadata": {},
     "output_type": "execute_result"
    }
   ],
   "source": [
    "y_pred = a + b * x\n",
    "y_pred"
   ]
  },
  {
   "cell_type": "code",
   "execution_count": 8,
   "metadata": {},
   "outputs": [
    {
     "data": {
      "text/plain": [
       "6470.414201176658"
      ]
     },
     "execution_count": 8,
     "metadata": {},
     "output_type": "execute_result"
    }
   ],
   "source": [
    "mse_(y, y_pred)"
   ]
  },
  {
   "cell_type": "code",
   "execution_count": 9,
   "metadata": {},
   "outputs": [
    {
     "data": {
      "text/plain": [
       "<function matplotlib.pyplot.show(*args, **kw)>"
      ]
     },
     "execution_count": 9,
     "metadata": {},
     "output_type": "execute_result"
    },
    {
     "data": {
      "image/png": "[encoded data removed]",
      "text/plain": [
       "<Figure size 432x288 with 1 Axes>"
      ]
     },
     "metadata": {
      "needs_background": "light"
     },
     "output_type": "display_data"
    }
   ],
   "source": [
    "plt.scatter(x, y)\n",
    "plt.plot(x, y_pred)\n",
    "plt.show"
   ]
  },
  {
   "cell_type": "markdown",
   "metadata": {},
   "source": [
    "### Способ 2:"
   ]
  },
  {
   "cell_type": "markdown",
   "metadata": {},
   "source": [
    "$W = (X \\cdot X^T)^{-1} \\cdot X \\cdot y^T$"
   ]
  },
  {
   "cell_type": "markdown",
   "metadata": {},
   "source": [
    "#### Без intercept:"
   ]
  },
  {
   "cell_type": "code",
   "execution_count": 10,
   "metadata": {},
   "outputs": [
    {
     "data": {
      "text/plain": [
       "array([[ 35,  45, 190, 200,  40,  70,  54, 150, 120, 110]])"
      ]
     },
     "execution_count": 10,
     "metadata": {},
     "output_type": "execute_result"
    }
   ],
   "source": [
    "X_mtrx = x.reshape((1, len(x)))\n",
    "X_mtrx"
   ]
  },
  {
   "cell_type": "code",
   "execution_count": 11,
   "metadata": {},
   "outputs": [
    {
     "data": {
      "text/plain": [
       "array([[401, 574, 874, 919, 459, 739, 653, 902, 746, 832]])"
      ]
     },
     "execution_count": 11,
     "metadata": {},
     "output_type": "execute_result"
    }
   ],
   "source": [
    "y_mtrx = y.reshape((1,len(x)))\n",
    "y_mtrx"
   ]
  },
  {
   "cell_type": "code",
   "execution_count": 12,
   "metadata": {},
   "outputs": [
    {
     "data": {
      "text/plain": [
       "array([[5.88982042]])"
      ]
     },
     "execution_count": 12,
     "metadata": {},
     "output_type": "execute_result"
    }
   ],
   "source": [
    "coefs_ = np.linalg.inv(X_mtrx @ X_mtrx.T) @ X_mtrx @ y_mtrx.T\n",
    "coefs_"
   ]
  },
  {
   "cell_type": "code",
   "execution_count": 13,
   "metadata": {},
   "outputs": [
    {
     "name": "stdout",
     "output_type": "stream",
     "text": [
      "a: 0\n",
      "b: 5.889820420132689\n"
     ]
    }
   ],
   "source": [
    "a = 0\n",
    "b = coefs_[0, 0]\n",
    "print(\"a:\", a)\n",
    "print(\"b:\", b)"
   ]
  },
  {
   "cell_type": "code",
   "execution_count": 14,
   "metadata": {},
   "outputs": [
    {
     "data": {
      "text/plain": [
       "array([ 206.1437147 ,  265.04191891, 1119.06587983, 1177.96408403,\n",
       "        235.59281681,  412.28742941,  318.05030269,  883.47306302,\n",
       "        706.77845042,  647.88024621])"
      ]
     },
     "execution_count": 14,
     "metadata": {},
     "output_type": "execute_result"
    }
   ],
   "source": [
    "y_pred = a + b * x\n",
    "y_pred"
   ]
  },
  {
   "cell_type": "code",
   "execution_count": 15,
   "metadata": {},
   "outputs": [
    {
     "data": {
      "text/plain": [
       "56516.85841571941"
      ]
     },
     "execution_count": 15,
     "metadata": {},
     "output_type": "execute_result"
    }
   ],
   "source": [
    "mse_(y, y_pred)"
   ]
  },
  {
   "cell_type": "markdown",
   "metadata": {},
   "source": [
    "#### С intercept:"
   ]
  },
  {
   "cell_type": "code",
   "execution_count": 16,
   "metadata": {},
   "outputs": [
    {
     "data": {
      "text/plain": [
       "array([[  1.,   1.,   1.,   1.,   1.,   1.,   1.,   1.,   1.,   1.],\n",
       "       [ 35.,  45., 190., 200.,  40.,  70.,  54., 150., 120., 110.]])"
      ]
     },
     "execution_count": 16,
     "metadata": {},
     "output_type": "execute_result"
    }
   ],
   "source": [
    "X_mtrx = np.vstack([np.ones((1,len(x))), x])\n",
    "X_mtrx"
   ]
  },
  {
   "cell_type": "code",
   "execution_count": 17,
   "metadata": {},
   "outputs": [
    {
     "data": {
      "text/plain": [
       "array([[401, 574, 874, 919, 459, 739, 653, 902, 746, 832]])"
      ]
     },
     "execution_count": 17,
     "metadata": {},
     "output_type": "execute_result"
    }
   ],
   "source": [
    "y_mtrx = y.reshape((1,len(x)))\n",
    "y_mtrx"
   ]
  },
  {
   "cell_type": "code",
   "execution_count": 18,
   "metadata": {},
   "outputs": [
    {
     "data": {
      "text/plain": [
       "array([[444.17735732],\n",
       "       [  2.62053888]])"
      ]
     },
     "execution_count": 18,
     "metadata": {},
     "output_type": "execute_result"
    }
   ],
   "source": [
    "coefs_ = np.linalg.inv(X_mtrx @ X_mtrx.T) @ X_mtrx @ y_mtrx.T\n",
    "coefs_"
   ]
  },
  {
   "cell_type": "code",
   "execution_count": 19,
   "metadata": {},
   "outputs": [
    {
     "name": "stdout",
     "output_type": "stream",
     "text": [
      "a: [444.17735732]\n",
      "b: [2.62053888]\n"
     ]
    }
   ],
   "source": [
    "a, b = coefs_\n",
    "print(\"a:\", a)\n",
    "print(\"b:\", b)"
   ]
  },
  {
   "cell_type": "code",
   "execution_count": 20,
   "metadata": {},
   "outputs": [
    {
     "data": {
      "text/plain": [
       "array([535.89621821, 562.10160703, 942.07974498, 968.2851338 ,\n",
       "       548.99891262, 627.61507909, 585.68645697, 837.25818968,\n",
       "       758.64202321, 732.43663439])"
      ]
     },
     "execution_count": 20,
     "metadata": {},
     "output_type": "execute_result"
    }
   ],
   "source": [
    "y_pred = a + b * x\n",
    "y_pred"
   ]
  },
  {
   "cell_type": "code",
   "execution_count": 21,
   "metadata": {},
   "outputs": [
    {
     "data": {
      "text/plain": [
       "6470.414201176662"
      ]
     },
     "execution_count": 21,
     "metadata": {},
     "output_type": "execute_result"
    }
   ],
   "source": [
    "mse_(y, y_pred)"
   ]
  },
  {
   "cell_type": "code",
   "execution_count": null,
   "metadata": {},
   "outputs": [],
   "source": []
  },
  {
   "cell_type": "code",
   "execution_count": null,
   "metadata": {},
   "outputs": [],
   "source": []
  },
  {
   "cell_type": "code",
   "execution_count": null,
   "metadata": {},
   "outputs": [],
   "source": []
  },
  {
   "cell_type": "markdown",
   "metadata": {},
   "source": [
    "**2) Посчитать коэффициент линейной регрессии при заработной плате (zp), используя градиентный спуск (без intercept).**"
   ]
  },
  {
   "cell_type": "markdown",
   "metadata": {},
   "source": [
    "#### Без intercept:"
   ]
  },
  {
   "cell_type": "code",
   "execution_count": 22,
   "metadata": {},
   "outputs": [],
   "source": [
    "def mse_2(w1):\n",
    "    return np.sum((w1*x - y)**2) / len(x)"
   ]
  },
  {
   "cell_type": "markdown",
   "metadata": {},
   "source": [
    "f = (1/n) \\* np.sum((w1\\*X - y)\\*\\*2)  \n",
    "f_p_w1 = (1/n) \\* np.sum(2 \\* (w1\\*X - y) \\* X) = (2/n) * np.sum((w1\\*X - y) \\* X)"
   ]
  },
  {
   "cell_type": "code",
   "execution_count": 23,
   "metadata": {},
   "outputs": [
    {
     "name": "stdout",
     "output_type": "stream",
     "text": [
      "Iteration: 0; w1 = 0.25952808; mse = 493237.7212546963\n",
      "Iteration: 25; w1 = 3.089696614991865; mse = 164534.9540647404\n",
      "Iteration: 50; w1 = 4.497229618367758; mse = 83233.94472982832\n",
      "Iteration: 75; w1 = 5.19724063576749; mse = 63125.03547000552\n",
      "Iteration: 100; w1 = 5.54537842245223; mse = 58151.31823171113\n",
      "Iteration: 125; w1 = 5.7185184381164955; mse = 56921.12405027273\n",
      "Iteration: 150; w1 = 5.804626485478126; mse = 56616.849068093856\n",
      "Iteration: 175; w1 = 5.84745076149535; mse = 56541.590002348865\n",
      "Iteration: 200; w1 = 5.868748638669329; mse = 56522.97550129376\n",
      "Iteration: 225; w1 = 5.879340751702029; mse = 56518.37140946641\n",
      "Iteration: 250; w1 = 5.884608547059329; mse = 56517.232638059555\n",
      "Iteration: 275; w1 = 5.887228389562966; mse = 56516.9509754938\n",
      "Iteration: 300; w1 = 5.888531320728348; mse = 56516.88130936019\n",
      "Iteration: 325; w1 = 5.889179309918296; mse = 56516.86407820931\n",
      "Iteration: 350; w1 = 5.889501575592372; mse = 56516.85981627392\n",
      "Iteration: 375; w1 = 5.88966184858195; mse = 56516.858762131145\n",
      "Iteration: 400; w1 = 5.8897415574471985; mse = 56516.85850140053\n",
      "Iteration: 425; w1 = 5.8897811992060225; mse = 56516.85843691168\n",
      "Iteration: 450; w1 = 5.889800914315978; mse = 56516.858420961085\n",
      "Iteration: 475; w1 = 5.889810719268433; mse = 56516.85841701587\n",
      "Iteration: 500; w1 = 5.889815595583751; mse = 56516.858416040064\n"
     ]
    }
   ],
   "source": [
    "alpha = 1e-6\n",
    "w1 = 0.1\n",
    "for i in range(501):\n",
    "    w1 -= alpha * (2/len(x)) * np.sum((w1*x - y) * x)\n",
    "    if i % 25 == 0:\n",
    "        print(\"Iteration: {i}; w1 = {w1}; mse = {mse}\".format(i=i, w1=w1, mse=mse_2(w1)))"
   ]
  },
  {
   "cell_type": "code",
   "execution_count": 24,
   "metadata": {},
   "outputs": [
    {
     "name": "stdout",
     "output_type": "stream",
     "text": [
      "a: 0\n",
      "b: 5.889815595583751\n"
     ]
    }
   ],
   "source": [
    "a, b = 0, w1\n",
    "print(\"a:\", a)\n",
    "print(\"b:\", b)"
   ]
  },
  {
   "cell_type": "code",
   "execution_count": 25,
   "metadata": {},
   "outputs": [
    {
     "data": {
      "text/plain": [
       "array([ 206.14354585,  265.0417018 , 1119.06496316, 1177.96311912,\n",
       "        235.59262382,  412.28709169,  318.05004216,  883.47233934,\n",
       "        706.77787147,  647.87971551])"
      ]
     },
     "execution_count": 25,
     "metadata": {},
     "output_type": "execute_result"
    }
   ],
   "source": [
    "y_pred = a + b * x\n",
    "y_pred"
   ]
  },
  {
   "cell_type": "code",
   "execution_count": 26,
   "metadata": {},
   "outputs": [
    {
     "data": {
      "text/plain": [
       "56516.858416040064"
      ]
     },
     "execution_count": 26,
     "metadata": {},
     "output_type": "execute_result"
    }
   ],
   "source": [
    "mse_(y, y_pred)"
   ]
  },
  {
   "cell_type": "code",
   "execution_count": null,
   "metadata": {},
   "outputs": [],
   "source": []
  },
  {
   "cell_type": "code",
   "execution_count": null,
   "metadata": {},
   "outputs": [],
   "source": []
  },
  {
   "cell_type": "code",
   "execution_count": null,
   "metadata": {},
   "outputs": [],
   "source": []
  },
  {
   "cell_type": "markdown",
   "metadata": {},
   "source": [
    "**3) В каких случаях для вычисления доверительных интервалов и проверки статистических гипотез используется таблица значений функции Лапласа, а в каких - таблица критических точек распределения Стьюдента?**"
   ]
  },
  {
   "cell_type": "markdown",
   "metadata": {},
   "source": [
    "Таблица значений функции Лапласа используется тогда, когда известна дисперсия генеральной выборки и/или количество наблюдений велико (более тридцати, например).  \n",
    "Таблица значений Стьюдента используется когда дисперсия неизвестна и количество наблюдений мало, т.к. с увеличением объема выборки, распределение Стьюдента стремится к нормальному."
   ]
  },
  {
   "cell_type": "code",
   "execution_count": null,
   "metadata": {},
   "outputs": [],
   "source": []
  },
  {
   "cell_type": "code",
   "execution_count": null,
   "metadata": {},
   "outputs": [],
   "source": []
  },
  {
   "cell_type": "code",
   "execution_count": null,
   "metadata": {},
   "outputs": [],
   "source": []
  },
  {
   "cell_type": "markdown",
   "metadata": {},
   "source": [
    "***4. Произвести вычисления как в пункте 2, но с вычислением intercept.  \n",
    "Учесть, что изменение коэффициентов должно производиться на каждом шаге одновременно (то есть изменение одного коэффициента не должно влиять на изменение другого во время одной итерации).**"
   ]
  },
  {
   "cell_type": "markdown",
   "metadata": {},
   "source": [
    "#### С intercept:"
   ]
  },
  {
   "cell_type": "code",
   "execution_count": 27,
   "metadata": {},
   "outputs": [],
   "source": [
    "def mse_3(w0, w1):\n",
    "    return np.sum(((w0 + w1*x) - y)**2) / len(x)"
   ]
  },
  {
   "cell_type": "markdown",
   "metadata": {},
   "source": [
    "f = (1/n) \\* np.sum(((w0 + w1\\*X) - y)\\*\\*2)  \n",
    "f_p_w0 = (1/n) \\* np.sum(2 \\* ((w0 + w1\\*X) - y) \\* 1) = (2/n) * np.sum(((w0 + w1\\*X) - y) \\* 1)  \n",
    "f_p_w1 = (1/n) \\* np.sum(2 \\* ((w0 + w1\\*X) - y) \\* X) = (2/n) * np.sum(((w0 + w1\\*X) - y) \\* X)"
   ]
  },
  {
   "cell_type": "code",
   "execution_count": 28,
   "metadata": {},
   "outputs": [
    {
     "name": "stdout",
     "output_type": "stream",
     "text": [
      "Iteration: 0; w0 = 0.169966; w1 = 8.074680544760001; mse = 122318.06397097581\n",
      "Iteration: 25000; w0 = 208.68130373121608; w1 = 4.353849987980955; mse = 20538.26203396842\n",
      "Iteration: 50000; w0 = 319.27767648420047; w1 = 3.5398324356503275; mse = 10427.569111705801\n",
      "Iteration: 75000; w0 = 377.93450511535644; w1 = 3.108103194615863; mse = 7583.525117078449\n",
      "Iteration: 100000; w0 = 409.0442373734796; w1 = 2.879127619051743; mse = 6783.521961452364\n",
      "Iteration: 125000; w0 = 425.54385836829897; w1 = 2.7576861941454864; mse = 6558.488505492904\n",
      "Iteration: 150000; w0 = 434.29473705519484; w1 = 2.693277491833349; mse = 6495.188684804794\n",
      "Iteration: 175000; w0 = 438.9359271659735; w1 = 2.6591171471508397; mse = 6477.383033275948\n",
      "Iteration: 200000; w0 = 441.3974680483413; w1 = 2.6409995775222037; mse = 6472.374468908443\n",
      "Iteration: 225000; w0 = 442.7029917116536; w1 = 2.6313905898993206; mse = 6470.965606279485\n",
      "Iteration: 250000; w0 = 443.39540029510493; w1 = 2.62629428586797; mse = 6470.569306309746\n",
      "Iteration: 275000; w0 = 443.7626319737892; w1 = 2.623591366913399; mse = 6470.457830809732\n",
      "Iteration: 300000; w0 = 443.95740007610897; w1 = 2.622157823932053; mse = 6470.426473787141\n",
      "Iteration: 325000; w0 = 444.06069893588193; w1 = 2.621397517939209; mse = 6470.417653347977\n",
      "Iteration: 350000; w0 = 444.1154853937451; w1 = 2.6209942756156086; mse = 6470.415172240385\n",
      "Iteration: 375000; w0 = 444.1445424033906; w1 = 2.620780408602786; mse = 6470.414474327864\n",
      "Iteration: 400000; w0 = 444.159953325044; w1 = 2.6206669802831115; mse = 6470.414278011555\n",
      "Iteration: 425000; w0 = 444.1681267919308; w1 = 2.6206068214791327; mse = 6470.414222789603\n",
      "Iteration: 450000; w0 = 444.1724617410292; w1 = 2.6205749151465225; mse = 6470.414207256183\n",
      "Iteration: 475000; w0 = 444.17476086133473; w1 = 2.620557993033825; mse = 6470.414202886774\n",
      "Iteration: 500000; w0 = 444.1759802422447; w1 = 2.6205490180788695; mse = 6470.414201657699\n",
      "Iteration: 525000; w0 = 444.1766269634317; w1 = 2.620544258045746; mse = 6470.414201311969\n",
      "Iteration: 550000; w0 = 444.1769699639544; w1 = 2.6205417334742886; mse = 6470.41420121472\n",
      "Iteration: 575000; w0 = 444.1771518806156; w1 = 2.6205403945211962; mse = 6470.414201187368\n",
      "Iteration: 600000; w0 = 444.17724836347435; w1 = 2.6205396843827113; mse = 6470.41420117967\n",
      "Iteration: 625000; w0 = 444.1772995349424; w1 = 2.620539307747637; mse = 6470.414201177506\n",
      "Iteration: 650000; w0 = 444.1773266746748; w1 = 2.6205391079922737; mse = 6470.414201176898\n",
      "Iteration: 675000; w0 = 444.1773410687318; w1 = 2.620539002048339; mse = 6470.414201176727\n",
      "Iteration: 700000; w0 = 444.17734870288626; w1 = 2.6205389458590114; mse = 6470.414201176682\n",
      "Iteration: 725000; w0 = 444.1773527518021; w1 = 2.6205389160579564; mse = 6470.414201176662\n",
      "Iteration: 750000; w0 = 444.17735489922035; w1 = 2.6205389002524098; mse = 6470.414201176659\n",
      "Iteration: 775000; w0 = 444.17735603814214; w1 = 2.6205388918696544; mse = 6470.414201176659\n",
      "Iteration: 800000; w0 = 444.1773566421911; w1 = 2.6205388874236997; mse = 6470.41420117666\n",
      "Iteration: 825000; w0 = 444.17735696255926; w1 = 2.620538885065708; mse = 6470.41420117666\n",
      "Iteration: 850000; w0 = 444.17735713247174; w1 = 2.620538883815109; mse = 6470.414201176659\n",
      "Iteration: 875000; w0 = 444.1773572225887; w1 = 2.6205388831518253; mse = 6470.414201176658\n",
      "Iteration: 900000; w0 = 444.177357270376; w1 = 2.6205388828000986; mse = 6470.414201176658\n",
      "Iteration: 925000; w0 = 444.1773572957224; w1 = 2.6205388826135425; mse = 6470.414201176658\n",
      "Iteration: 950000; w0 = 444.17735730915825; w1 = 2.620538882514651; mse = 6470.414201176656\n",
      "Iteration: 975000; w0 = 444.17735731631035; w1 = 2.62053888246201; mse = 6470.414201176657\n",
      "Iteration: 1000000; w0 = 444.17735732000267; w1 = 2.620538882434834; mse = 6470.414201176662\n"
     ]
    }
   ],
   "source": [
    "alpha = 5e-5\n",
    "w0 = 0.1\n",
    "w1 = 0.1\n",
    "for i in range(1000001):\n",
    "    w0 -= alpha * ((2/len(x)) * np.sum(((w0 + w1*x) - y) * 1))\n",
    "    w1 -= alpha * ((2/len(x)) * np.sum(((w0 + w1*x) - y) * x))\n",
    "    if i % 25000 == 0:\n",
    "        print(\"Iteration: {i}; w0 = {w0}; w1 = {w1}; mse = {mse}\".format(i=i, w0=w0, w1=w1, mse=mse_3(w0, w1)))"
   ]
  },
  {
   "cell_type": "code",
   "execution_count": 29,
   "metadata": {},
   "outputs": [
    {
     "name": "stdout",
     "output_type": "stream",
     "text": [
      "a: 444.17735732000267\n",
      "b: 2.620538882434834\n"
     ]
    }
   ],
   "source": [
    "a, b = w0, w1\n",
    "print(\"a:\", a)\n",
    "print(\"b:\", b)"
   ]
  },
  {
   "cell_type": "code",
   "execution_count": 30,
   "metadata": {},
   "outputs": [
    {
     "data": {
      "text/plain": [
       "array([535.89621821, 562.10160703, 942.07974498, 968.28513381,\n",
       "       548.99891262, 627.61507909, 585.68645697, 837.25818969,\n",
       "       758.64202321, 732.43663439])"
      ]
     },
     "execution_count": 30,
     "metadata": {},
     "output_type": "execute_result"
    }
   ],
   "source": [
    "y_pred = a + b * x\n",
    "y_pred"
   ]
  },
  {
   "cell_type": "code",
   "execution_count": 31,
   "metadata": {},
   "outputs": [
    {
     "data": {
      "text/plain": [
       "6470.414201176662"
      ]
     },
     "execution_count": 31,
     "metadata": {},
     "output_type": "execute_result"
    }
   ],
   "source": [
    "mse_(y, y_pred)"
   ]
  },
  {
   "cell_type": "code",
   "execution_count": null,
   "metadata": {},
   "outputs": [],
   "source": []
  },
  {
   "cell_type": "code",
   "execution_count": null,
   "metadata": {},
   "outputs": [],
   "source": []
  },
  {
   "cell_type": "code",
   "execution_count": null,
   "metadata": {},
   "outputs": [],
   "source": []
  }
 ],
 "metadata": {
  "kernelspec": {
   "display_name": "Python 3",
   "language": "python",
   "name": "python3"
  },
  "language_info": {
   "codemirror_mode": {
    "name": "ipython",
    "version": 3
   },
   "file_extension": ".py",
   "mimetype": "text/x-python",
   "name": "python",
   "nbconvert_exporter": "python",
   "pygments_lexer": "ipython3",
   "version": "3.7.1"
  }
 },
 "nbformat": 4,
 "nbformat_minor": 2
}
