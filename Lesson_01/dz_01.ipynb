{
 "cells": [
  {
   "cell_type": "markdown",
   "metadata": {},
   "source": [
    "1) **Из колоды в 52 карты извлекаются случайным образом 4 карты. Найти вероятность того, что все карты – крести. Найти вероятность, что среди этих карт окажется хотя бы один туз.**  \n"
   ]
  },
  {
   "cell_type": "markdown",
   "metadata": {},
   "source": [
    "**Вероятность найти 4 карты крести:**"
   ]
  },
  {
   "cell_type": "code",
   "execution_count": 1,
   "metadata": {},
   "outputs": [
    {
     "data": {
      "text/plain": [
       "0.0026410564225690276"
      ]
     },
     "execution_count": 1,
     "metadata": {},
     "output_type": "execute_result"
    }
   ],
   "source": [
    "four_clubs_prob = (13/52)*(12/51)*(11/50)*(10/49)\n",
    "four_clubs_prob"
   ]
  },
  {
   "cell_type": "markdown",
   "metadata": {},
   "source": [
    "**Проверим методом Монте-Карло:**"
   ]
  },
  {
   "cell_type": "code",
   "execution_count": 2,
   "metadata": {},
   "outputs": [],
   "source": [
    "import random\n",
    "import math\n",
    "import time\n",
    "def make_deck_of_52_cards():\n",
    "    deck = []\n",
    "    for i in range(52):\n",
    "        deck.append(i%13+2)\n",
    "    deck.sort()\n",
    "    \n",
    "    for i in range(len(deck)):\n",
    "        if deck[i] > 10:\n",
    "            if deck[i] == 11:\n",
    "                card = \"J\"\n",
    "            elif deck[i] == 12:\n",
    "                card = \"Q\"\n",
    "            elif deck[i] == 13:\n",
    "                card = \"K\"\n",
    "            else:\n",
    "                card = \"A\"\n",
    "            deck[i] = card\n",
    "    suits = [\n",
    "        'heart', # червы\n",
    "        'diamond', # бубны\n",
    "        'club', # трефы (крести)\n",
    "        'spade' # пики\n",
    "    ]\n",
    "    a = suits * (52//4)\n",
    "    for i in range(len(deck)):\n",
    "        deck[i] = (deck[i], suits[i%len(suits)])\n",
    "    return deck"
   ]
  },
  {
   "cell_type": "code",
   "execution_count": 3,
   "metadata": {},
   "outputs": [
    {
     "name": "stdout",
     "output_type": "stream",
     "text": [
      "Test time: 44.760 seconds\n",
      "N: 1000000\n",
      "Four clubs counter: 2578\n",
      "Four clubs prob: 0.002578\n"
     ]
    }
   ],
   "source": [
    "N = 1000000\n",
    "start_time = time.time()\n",
    "four_clubs_counter = 0\n",
    "for test in range(N):\n",
    "    deck = make_deck_of_52_cards()\n",
    "    random.shuffle(deck)\n",
    "    if deck[0][1] == \"club\" and deck[1][1] == \"club\" and deck[2][1] == \"club\" and deck[3][1] == \"club\":\n",
    "        four_clubs_counter += 1\n",
    "print(\"Test time: %.3f seconds\" % (time.time() - start_time))\n",
    "print(\"N:\", N)\n",
    "print(\"Four clubs counter:\", four_clubs_counter)\n",
    "print(\"Four clubs prob:\", four_clubs_counter/N)"
   ]
  },
  {
   "cell_type": "markdown",
   "metadata": {},
   "source": [
    "**Вероятность что среди 4 карт окажется хотябы один туз:**"
   ]
  },
  {
   "cell_type": "code",
   "execution_count": 4,
   "metadata": {},
   "outputs": [],
   "source": [
    "def combinations(n, k):\n",
    "    return math.factorial(n)/(math.factorial(k)*math.factorial(n-k))"
   ]
  },
  {
   "cell_type": "code",
   "execution_count": 5,
   "metadata": {},
   "outputs": [
    {
     "data": {
      "text/plain": [
       "0.25555083571890297"
      ]
     },
     "execution_count": 5,
     "metadata": {},
     "output_type": "execute_result"
    }
   ],
   "source": [
    "one_ace_prob = (4/52) * (48/51) * (47/50) * (46/49) * combinations(4, 1)\n",
    "one_ace_prob"
   ]
  },
  {
   "cell_type": "code",
   "execution_count": 6,
   "metadata": {},
   "outputs": [
    {
     "data": {
      "text/plain": [
       "0.024999538276849205"
      ]
     },
     "execution_count": 6,
     "metadata": {},
     "output_type": "execute_result"
    }
   ],
   "source": [
    "two_aces_prob = (4/52) * (3/51) * (48/50) * (47/49) * combinations(4,2)\n",
    "two_aces_prob"
   ]
  },
  {
   "cell_type": "code",
   "execution_count": 7,
   "metadata": {},
   "outputs": [
    {
     "data": {
      "text/plain": [
       "0.0007092067596269278"
      ]
     },
     "execution_count": 7,
     "metadata": {},
     "output_type": "execute_result"
    }
   ],
   "source": [
    "three_aces_prob = (4/52) * (3/51) * (2/50) * (48/49) * combinations(4,3)\n",
    "three_aces_prob"
   ]
  },
  {
   "cell_type": "code",
   "execution_count": 8,
   "metadata": {},
   "outputs": [
    {
     "data": {
      "text/plain": [
       "3.6937852063902484e-06"
      ]
     },
     "execution_count": 8,
     "metadata": {},
     "output_type": "execute_result"
    }
   ],
   "source": [
    "four_aces_prob = (4/52) * (3/51) * (2/50) * (1/49) * combinations(4,4)\n",
    "four_aces_prob"
   ]
  },
  {
   "cell_type": "code",
   "execution_count": 9,
   "metadata": {},
   "outputs": [
    {
     "data": {
      "text/plain": [
       "0.2812632745405855"
      ]
     },
     "execution_count": 9,
     "metadata": {},
     "output_type": "execute_result"
    }
   ],
   "source": [
    "at_least_one_ace_prob = one_ace_prob + two_aces_prob + three_aces_prob + four_aces_prob\n",
    "at_least_one_ace_prob"
   ]
  },
  {
   "cell_type": "markdown",
   "metadata": {},
   "source": [
    "**Проверим методом Монте-Карло:**"
   ]
  },
  {
   "cell_type": "code",
   "execution_count": 10,
   "metadata": {},
   "outputs": [
    {
     "name": "stdout",
     "output_type": "stream",
     "text": [
      "Test time: 43.337 seconds\n",
      "N: 1000000\n",
      "At least one ace counter: 280271\n",
      "At least one ace prob: 0.280271\n"
     ]
    }
   ],
   "source": [
    "N = 1000000\n",
    "start_time = time.time()\n",
    "at_least_one_ace_counter = 0\n",
    "for test in range(N):\n",
    "    deck = make_deck_of_52_cards()\n",
    "    random.shuffle(deck)\n",
    "    if deck[0][0] == \"A\" or deck[1][0] == \"A\" or deck[2][0] == \"A\" or deck[3][0] == \"A\":\n",
    "        at_least_one_ace_counter += 1\n",
    "print(\"Test time: %.3f seconds\" % (time.time() - start_time))\n",
    "print(\"N:\", N)\n",
    "print(\"At least one ace counter:\", at_least_one_ace_counter)\n",
    "print(\"At least one ace prob:\", at_least_one_ace_counter/N)"
   ]
  },
  {
   "cell_type": "markdown",
   "metadata": {},
   "source": [
    "2) **На входной двери подъезда установлен кодовый замок, содержащий десять кнопок с цифрами от 0 до 9. Код содержит три цифры, которые нужно нажать одновременно. Какова вероятность того, что человек, не знающий код, откроет дверь с первой попытки?**  "
   ]
  },
  {
   "cell_type": "code",
   "execution_count": 11,
   "metadata": {},
   "outputs": [
    {
     "data": {
      "text/plain": [
       "120.0"
      ]
     },
     "execution_count": 11,
     "metadata": {},
     "output_type": "execute_result"
    }
   ],
   "source": [
    "var_count = combinations(10, 3)\n",
    "var_count"
   ]
  },
  {
   "cell_type": "code",
   "execution_count": 12,
   "metadata": {},
   "outputs": [
    {
     "data": {
      "text/plain": [
       "0.008333333333333333"
      ]
     },
     "execution_count": 12,
     "metadata": {},
     "output_type": "execute_result"
    }
   ],
   "source": [
    "correct_code_prob = 1 / var_count\n",
    "correct_code_prob"
   ]
  },
  {
   "cell_type": "code",
   "execution_count": null,
   "metadata": {},
   "outputs": [],
   "source": []
  },
  {
   "cell_type": "code",
   "execution_count": null,
   "metadata": {},
   "outputs": [],
   "source": []
  },
  {
   "cell_type": "markdown",
   "metadata": {},
   "source": [
    "3) **В ящике имеется 15 деталей, из которых 9 окрашены. Рабочий случайным образом извлекает 3 детали. Какова вероятность того, что все извлеченные детали окрашены?**  "
   ]
  },
  {
   "cell_type": "code",
   "execution_count": 13,
   "metadata": {},
   "outputs": [
    {
     "data": {
      "text/plain": [
       "0.18461538461538457"
      ]
     },
     "execution_count": 13,
     "metadata": {},
     "output_type": "execute_result"
    }
   ],
   "source": [
    "three_color_parts_prob = (9/15)*(8/14)*(7/13)\n",
    "three_color_parts_prob"
   ]
  },
  {
   "cell_type": "code",
   "execution_count": null,
   "metadata": {},
   "outputs": [],
   "source": []
  },
  {
   "cell_type": "code",
   "execution_count": null,
   "metadata": {},
   "outputs": [],
   "source": []
  },
  {
   "cell_type": "markdown",
   "metadata": {},
   "source": [
    "4) **В лотерее 100 билетов. Из них 2 выигрышных. Какова вероятность того, что 2 приобретенных билета окажутся выигрышными?**  "
   ]
  },
  {
   "cell_type": "code",
   "execution_count": 14,
   "metadata": {},
   "outputs": [
    {
     "data": {
      "text/plain": [
       "0.00020202020202020205"
      ]
     },
     "execution_count": 14,
     "metadata": {},
     "output_type": "execute_result"
    }
   ],
   "source": [
    "two_won_tickets_prob = (2/100)*(1/99)\n",
    "two_won_tickets_prob"
   ]
  },
  {
   "cell_type": "code",
   "execution_count": null,
   "metadata": {},
   "outputs": [],
   "source": []
  },
  {
   "cell_type": "code",
   "execution_count": null,
   "metadata": {},
   "outputs": [],
   "source": []
  },
  {
   "cell_type": "code",
   "execution_count": null,
   "metadata": {},
   "outputs": [],
   "source": []
  },
  {
   "cell_type": "code",
   "execution_count": null,
   "metadata": {},
   "outputs": [],
   "source": []
  }
 ],
 "metadata": {
  "kernelspec": {
   "display_name": "Python 3",
   "language": "python",
   "name": "python3"
  },
  "language_info": {
   "codemirror_mode": {
    "name": "ipython",
    "version": 3
   },
   "file_extension": ".py",
   "mimetype": "text/x-python",
   "name": "python",
   "nbconvert_exporter": "python",
   "pygments_lexer": "ipython3",
   "version": "3.7.1"
  }
 },
 "nbformat": 4,
 "nbformat_minor": 2
}
