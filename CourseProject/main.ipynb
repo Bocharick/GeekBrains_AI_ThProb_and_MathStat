{
 "cells": [
  {
   "cell_type": "code",
   "execution_count": 1,
   "metadata": {},
   "outputs": [],
   "source": [
    "import numpy as np\n",
    "import pandas as pd\n",
    "import matplotlib.pyplot as plt\n",
    "import seaborn as sns\n",
    "%matplotlib inline"
   ]
  },
  {
   "cell_type": "code",
   "execution_count": null,
   "metadata": {},
   "outputs": [],
   "source": []
  },
  {
   "cell_type": "markdown",
   "metadata": {},
   "source": [
    "### **IMDb Datasets**\n",
    "\n",
    "Subsets of IMDb data are available for access to customers for personal and non-commercial use. You can hold local copies of this data, and it is subject to our terms and conditions. Please refer to the [Non-Commercial Licensing](https://help.imdb.com/article/imdb/general-information/can-i-use-imdb-data-in-my-software/G5JTRESSHJBBHTGX?pf_rd_m=A2FGELUUNOQJNL&amp;pf_rd_p=3aefe545-f8d3-4562-976a-e5eb47d1bb18&amp;pf_rd_r=C5Z70M2N900ND3CA6CAT&amp;pf_rd_s=center-1&amp;pf_rd_t=60601&amp;pf_rd_i=interfaces&amp;ref_=fea_mn_lk1) and [copyright/license](http://www.imdb.com/Copyright?pf_rd_m=A2FGELUUNOQJNL&amp;pf_rd_p=3aefe545-f8d3-4562-976a-e5eb47d1bb18&amp;pf_rd_r=C5Z70M2N900ND3CA6CAT&amp;pf_rd_s=center-1&amp;pf_rd_t=60601&amp;pf_rd_i=interfaces&amp;ref_=fea_mn_lk2) and verify compliance.\n",
    "\n",
    "**Data Location**\n",
    "\n",
    "The dataset files can be accessed and downloaded from [https://datasets.imdbws.com/](https://www.imdb.com/offsite/?pf_rd_m=A2FGELUUNOQJNL&amp;pf_rd_p=3aefe545-f8d3-4562-976a-e5eb47d1bb18&amp;pf_rd_r=C5Z70M2N900ND3CA6CAT&amp;pf_rd_s=center-1&amp;pf_rd_t=60601&amp;pf_rd_i=interfaces&amp;page-action=offsite-imdbws&amp;token=BCYqjCgbxhvkkPZqvIDuKZraCiIzU4_zRcPbCXwwUCIaXN2hnfdasUG9HBE3n73r6wALAyCPfonV%0D%0Akjf8k3Y1O1CWQhCYs4XmdobRUcXM-h2JG2s4iVkTzfLrQlct2rDDA-5gFvg-dP5pawpBPca9hvEQ%0D%0AFWjS1McvWWO13OTSyme0m0cxC0-J6yvJ2RGGM75xTV1PQikR59ssSmGnEduhQksu4Q%0D%0A&amp;ref_=fea_mn_lk3). The data is refreshed daily.\n",
    "\n",
    "**IMDb Dataset Details**\n",
    "\n",
    "Each dataset is contained in a gzipped, tab-separated-values (TSV) formatted file in the UTF-8 character set. The first line in each file contains headers that describe what is in each column. A _&#39;\\N&#39;_ is used to denote that a particular field is missing or null for that title/name. The available datasets are as follows:\n",
    "\n",
    "**title.akas.tsv.gz** - Contains the following information for titles:\n",
    "\n",
    "- titleId (string) - a tconst, an alphanumeric unique identifier of the title\n",
    "- ordering (integer) – a number to uniquely identify rows for a given titleId\n",
    "- title (string) – the localized title\n",
    "- region (string) - the region for this version of the title\n",
    "- language (string) - the language of the title\n",
    "- types (array) - Enumerated set of attributes for this alternative title. One or more of the following: &quot;alternative&quot;, &quot;dvd&quot;, &quot;festival&quot;, &quot;tv&quot;, &quot;video&quot;, &quot;working&quot;, &quot;original&quot;, &quot;imdbDisplay&quot;. New values may be added in the future without warning\n",
    "- attributes (array) - Additional terms to describe this alternative title, not enumerated\n",
    "- isOriginalTitle (boolean) – 0: not original title; 1: original title\n",
    "\n",
    "**title.basics.tsv.gz** - Contains the following information for titles:\n",
    "\n",
    "- tconst (string) - alphanumeric unique identifier of the title\n",
    "- titleType (string) – the type/format of the title (e.g. movie, short, tvseries, tvepisode, video, etc)\n",
    "- primaryTitle (string) – the more popular title / the title used by the filmmakers on promotional materials at the point of release\n",
    "- riginalTitle (string) - original title, in the original language\n",
    "- isAdult (boolean) - 0: non-adult title; 1: adult title\n",
    "- startYear (YYYY) – represents the release year of a title. In the case of TV Series, it is the series start year\n",
    "- endYear (YYYY) – TV Series end year. &#39;\\N&#39; for all other title types\n",
    "- runtimeMinutes – primary runtime of the title, in minutes\n",
    "- genres (string array) – includes up to three genres associated with the title\n",
    "\n",
    "**title.crew.tsv.gz** – Contains the director and writer information for all the titles in IMDb. Fields include:\n",
    "\n",
    "- tconst (string) - alphanumeric unique identifier of the title\n",
    "- directors (array of nconsts) - director(s) of the given title\n",
    "- writers (array of nconsts) – writer(s) of the given title\n",
    "\n",
    "**title.episode.tsv.gz** – Contains the tv episode information. Fields include:\n",
    "\n",
    "- tconst (string) - alphanumeric identifier of episode\n",
    "- parentTconst (string) - alphanumeric identifier of the parent TV Series\n",
    "- seasonNumber (integer) – season number the episode belongs to\n",
    "- episodeNumber (integer) – episode number of the tconst in the TV series\n",
    "\n",
    "**title.principals.tsv.gz** – Contains the principal cast/crew for titles\n",
    "\n",
    "- tconst (string) - alphanumeric unique identifier of the title\n",
    "- rdering (integer) – a number to uniquely identify rows for a given titleId\n",
    "- nconst (string) - alphanumeric unique identifier of the name/person\n",
    "- category (string) - the category of job that person was in\n",
    "- job (string) - the specific job title if applicable, else &#39;\\N&#39;\n",
    "- characters (string) - the name of the character played if applicable, else &#39;\\N&#39;\n",
    "\n",
    "**title.ratings.tsv.gz** – Contains the IMDb rating and votes information for titles\n",
    "\n",
    "- tconst (string) - alphanumeric unique identifier of the title\n",
    "- averageRating – weighted average of all the individual user ratings\n",
    "- numVotes - number of votes the title has received\n",
    "\n",
    "**name.basics.tsv.gz** – Contains the following information for names:\n",
    "\n",
    "- nconst (string) - alphanumeric unique identifier of the name/person\n",
    "- primaryName (string)– name by which the person is most often credited\n",
    "- birthYear – in YYYY format\n",
    "- deathYear – in YYYY format if applicable, else &#39;\\N&#39;\n",
    "- primaryProfession (array of strings)– the top-3 professions of the person\n",
    "- knownForTitles (array of tconsts) – titles the person is known for"
   ]
  },
  {
   "cell_type": "code",
   "execution_count": null,
   "metadata": {},
   "outputs": [],
   "source": []
  },
  {
   "cell_type": "code",
   "execution_count": null,
   "metadata": {},
   "outputs": [],
   "source": []
  },
  {
   "cell_type": "markdown",
   "metadata": {},
   "source": [
    "#### Читаем данные из файла и отделяем фильмы с названием на \"US\" от фильмов с названиями на других языках и удаляем дубликаты по полю 'titleId'."
   ]
  },
  {
   "cell_type": "code",
   "execution_count": 2,
   "metadata": {},
   "outputs": [],
   "source": [
    "data_title_akas_tsv = pd.read_csv(\"./data/title.akas.tsv.gz\", sep=\"\\t\", header=0, compression=\"gzip\", low_memory=False)\n",
    "data_us = data_title_akas_tsv[data_title_akas_tsv.region==\"US\"].copy()\n",
    "data_us.drop_duplicates(subset =\"titleId\", keep = False, inplace = True)\n",
    "data_NOT_us = data_title_akas_tsv[data_title_akas_tsv.region!=\"US\"].copy()\n",
    "data_NOT_us.drop_duplicates(subset =\"titleId\", keep = False, inplace = True)\n",
    "del data_title_akas_tsv"
   ]
  },
  {
   "cell_type": "markdown",
   "metadata": {},
   "source": [
    "#### Объединяем названия фильмов, таким образом чтобы сохранились все фильмы с названиями на \"US\" и добавились фильмы с названиями на других языках, но которых нет с названием на \"US\""
   ]
  },
  {
   "cell_type": "code",
   "execution_count": 3,
   "metadata": {},
   "outputs": [],
   "source": [
    "# Медленный способ, слишком долго ждать результат. Актуально только для небольших выборок\n",
    "# data_both = pd.concat([data_us, data_NOT_us[~np.in1d(data_NOT_us['titleId'], data_us['titleId'])]], ignore_index=True)\n",
    "\n",
    "# Быстрый способ. То что нужно.\n",
    "data_title_akas = pd.concat([data_us, data_NOT_us]).drop_duplicates(subset='titleId', keep='first').reset_index(drop=True)\n",
    "del data_us\n",
    "del data_NOT_us"
   ]
  },
  {
   "cell_type": "markdown",
   "metadata": {},
   "source": [
    "#### Загружаем дополнительные данные и объединяем их с имеющимися по полю \"titleId\""
   ]
  },
  {
   "cell_type": "code",
   "execution_count": 4,
   "metadata": {},
   "outputs": [],
   "source": [
    "data_title_basics_tsv = pd.read_csv(\"./data/title.basics.tsv.gz\", sep=\"\\t\", header=0, compression=\"gzip\")\n",
    "data_title_basics_tsv.rename(columns={\"tconst\": \"titleId\"}, inplace=True)\n",
    "more_data = pd.merge(data_title_akas, data_title_basics_tsv, on=\"titleId\")\n",
    "del data_title_akas\n",
    "del data_title_basics_tsv"
   ]
  },
  {
   "cell_type": "markdown",
   "metadata": {},
   "source": [
    "#### Загружаем данные с рейтингами и объединяем их с имеющимися данными по полю \"titleId\""
   ]
  },
  {
   "cell_type": "code",
   "execution_count": 5,
   "metadata": {},
   "outputs": [],
   "source": [
    "data_title_ratings_tsv = pd.read_csv(\"./data/title.ratings.tsv.gz\", sep=\"\\t\", header=0, compression=\"gzip\")\n",
    "data_title_ratings_tsv.rename(columns={\"tconst\": \"titleId\"}, inplace=True)\n",
    "full_data = pd.merge(more_data, data_title_ratings_tsv, on=\"titleId\")\n",
    "del more_data\n",
    "del data_title_ratings_tsv"
   ]
  },
  {
   "cell_type": "markdown",
   "metadata": {},
   "source": [
    "#### Так как предметом изучения в работе являются фильмы жанра \"Комедия\", отсечем остальные данные из датасэта"
   ]
  },
  {
   "cell_type": "code",
   "execution_count": 6,
   "metadata": {},
   "outputs": [],
   "source": [
    "full_data = full_data[full_data.genres.str.contains(\"Comedy\")]"
   ]
  },
  {
   "cell_type": "code",
   "execution_count": 7,
   "metadata": {},
   "outputs": [
    {
     "name": "stdout",
     "output_type": "stream",
     "text": [
      "<class 'pandas.core.frame.DataFrame'>\n",
      "Int64Index: 140600 entries, 12 to 479891\n",
      "Data columns (total 18 columns):\n",
      "titleId            140600 non-null object\n",
      "ordering           140600 non-null int64\n",
      "title              140600 non-null object\n",
      "region             140600 non-null object\n",
      "language           140600 non-null object\n",
      "types              140600 non-null object\n",
      "attributes         140600 non-null object\n",
      "isOriginalTitle    140600 non-null object\n",
      "titleType          140600 non-null object\n",
      "primaryTitle       140600 non-null object\n",
      "originalTitle      140600 non-null object\n",
      "isAdult            140600 non-null int64\n",
      "startYear          140600 non-null object\n",
      "endYear            140600 non-null object\n",
      "runtimeMinutes     140600 non-null object\n",
      "genres             140600 non-null object\n",
      "averageRating      140600 non-null float64\n",
      "numVotes           140600 non-null int64\n",
      "dtypes: float64(1), int64(3), object(14)\n",
      "memory usage: 20.4+ MB\n"
     ]
    }
   ],
   "source": [
    "full_data.info()"
   ]
  },
  {
   "cell_type": "code",
   "execution_count": 8,
   "metadata": {
    "scrolled": true
   },
   "outputs": [],
   "source": [
    "full_data = full_data[full_data.startYear!='\\\\N']"
   ]
  },
  {
   "cell_type": "code",
   "execution_count": 9,
   "metadata": {},
   "outputs": [
    {
     "name": "stdout",
     "output_type": "stream",
     "text": [
      "<class 'pandas.core.frame.DataFrame'>\n",
      "Int64Index: 140592 entries, 12 to 479891\n",
      "Data columns (total 18 columns):\n",
      "titleId            140592 non-null object\n",
      "ordering           140592 non-null int64\n",
      "title              140592 non-null object\n",
      "region             140592 non-null object\n",
      "language           140592 non-null object\n",
      "types              140592 non-null object\n",
      "attributes         140592 non-null object\n",
      "isOriginalTitle    140592 non-null object\n",
      "titleType          140592 non-null object\n",
      "primaryTitle       140592 non-null object\n",
      "originalTitle      140592 non-null object\n",
      "isAdult            140592 non-null int64\n",
      "startYear          140592 non-null object\n",
      "endYear            140592 non-null object\n",
      "runtimeMinutes     140592 non-null object\n",
      "genres             140592 non-null object\n",
      "averageRating      140592 non-null float64\n",
      "numVotes           140592 non-null int64\n",
      "dtypes: float64(1), int64(3), object(14)\n",
      "memory usage: 20.4+ MB\n"
     ]
    }
   ],
   "source": [
    "full_data.info()"
   ]
  },
  {
   "cell_type": "code",
   "execution_count": null,
   "metadata": {},
   "outputs": [],
   "source": []
  },
  {
   "cell_type": "code",
   "execution_count": null,
   "metadata": {},
   "outputs": [],
   "source": []
  },
  {
   "cell_type": "code",
   "execution_count": null,
   "metadata": {},
   "outputs": [],
   "source": []
  },
  {
   "cell_type": "code",
   "execution_count": null,
   "metadata": {},
   "outputs": [],
   "source": []
  },
  {
   "cell_type": "code",
   "execution_count": null,
   "metadata": {},
   "outputs": [],
   "source": []
  },
  {
   "cell_type": "code",
   "execution_count": 10,
   "metadata": {},
   "outputs": [],
   "source": [
    "full_data2 = full_data.copy()"
   ]
  },
  {
   "cell_type": "code",
   "execution_count": 11,
   "metadata": {},
   "outputs": [],
   "source": [
    "full_data2.drop(columns=[\"ordering\"], inplace=True)"
   ]
  },
  {
   "cell_type": "code",
   "execution_count": 12,
   "metadata": {},
   "outputs": [],
   "source": [
    "full_data2.startYear = full_data2.startYear.astype(np.int64)"
   ]
  },
  {
   "cell_type": "code",
   "execution_count": 13,
   "metadata": {},
   "outputs": [
    {
     "name": "stdout",
     "output_type": "stream",
     "text": [
      "<class 'pandas.core.frame.DataFrame'>\n",
      "Int64Index: 140592 entries, 12 to 479891\n",
      "Data columns (total 17 columns):\n",
      "titleId            140592 non-null object\n",
      "title              140592 non-null object\n",
      "region             140592 non-null object\n",
      "language           140592 non-null object\n",
      "types              140592 non-null object\n",
      "attributes         140592 non-null object\n",
      "isOriginalTitle    140592 non-null object\n",
      "titleType          140592 non-null object\n",
      "primaryTitle       140592 non-null object\n",
      "originalTitle      140592 non-null object\n",
      "isAdult            140592 non-null int64\n",
      "startYear          140592 non-null int64\n",
      "endYear            140592 non-null object\n",
      "runtimeMinutes     140592 non-null object\n",
      "genres             140592 non-null object\n",
      "averageRating      140592 non-null float64\n",
      "numVotes           140592 non-null int64\n",
      "dtypes: float64(1), int64(3), object(13)\n",
      "memory usage: 19.3+ MB\n"
     ]
    }
   ],
   "source": [
    "full_data2.info()"
   ]
  },
  {
   "cell_type": "code",
   "execution_count": 14,
   "metadata": {},
   "outputs": [],
   "source": [
    "full_data2 = full_data2[full_data2.titleType==\"movie\"]"
   ]
  },
  {
   "cell_type": "code",
   "execution_count": null,
   "metadata": {},
   "outputs": [],
   "source": []
  },
  {
   "cell_type": "code",
   "execution_count": null,
   "metadata": {},
   "outputs": [],
   "source": []
  },
  {
   "cell_type": "code",
   "execution_count": null,
   "metadata": {},
   "outputs": [],
   "source": []
  },
  {
   "cell_type": "code",
   "execution_count": 15,
   "metadata": {},
   "outputs": [
    {
     "data": {
      "text/plain": [
       "6.016669437978052"
      ]
     },
     "execution_count": 15,
     "metadata": {},
     "output_type": "execute_result"
    }
   ],
   "source": [
    "full_data2[full_data2.startYear<=1990].averageRating.mean()"
   ]
  },
  {
   "cell_type": "code",
   "execution_count": 16,
   "metadata": {
    "scrolled": true
   },
   "outputs": [
    {
     "data": {
      "text/plain": [
       "6.00966316356776"
      ]
     },
     "execution_count": 16,
     "metadata": {},
     "output_type": "execute_result"
    }
   ],
   "source": [
    "full_data2[full_data2.startYear>1990].averageRating.mean()"
   ]
  },
  {
   "cell_type": "code",
   "execution_count": 17,
   "metadata": {},
   "outputs": [
    {
     "data": {
      "text/plain": [
       "Index(['averageRating', 'numVotes', 'startYear', 'isAdult'], dtype='object')"
      ]
     },
     "execution_count": 17,
     "metadata": {},
     "output_type": "execute_result"
    }
   ],
   "source": [
    "correlation = full_data2.corr(method='pearson')\n",
    "columns = correlation.nlargest(10, 'averageRating').index\n",
    "columns"
   ]
  },
  {
   "cell_type": "code",
   "execution_count": 18,
   "metadata": {},
   "outputs": [
    {
     "data": {
      "image/png": "[encoded data removed]",
      "text/plain": [
       "<Figure size 792x792 with 2 Axes>"
      ]
     },
     "metadata": {},
     "output_type": "display_data"
    }
   ],
   "source": [
    "\n",
    "sns.set(rc={'figure.figsize':(11.,11.)})\n",
    "correlation_map = np.corrcoef(full_data2[columns].values.T)\n",
    "sns.set(font_scale=1.0)\n",
    "heatmap = sns.heatmap(correlation_map, cbar=True, annot=True, square=True, fmt='.2f', yticklabels=columns.values, xticklabels=columns.values)\n",
    "\n",
    "plt.show()"
   ]
  },
  {
   "cell_type": "code",
   "execution_count": null,
   "metadata": {},
   "outputs": [],
   "source": []
  }
 ],
 "metadata": {
  "kernelspec": {
   "display_name": "Python 3",
   "language": "python",
   "name": "python3"
  },
  "language_info": {
   "codemirror_mode": {
    "name": "ipython",
    "version": 3
   },
   "file_extension": ".py",
   "mimetype": "text/x-python",
   "name": "python",
   "nbconvert_exporter": "python",
   "pygments_lexer": "ipython3",
   "version": "3.7.1"
  }
 },
 "nbformat": 4,
 "nbformat_minor": 2
}
